{
 "cells": [
  {
   "cell_type": "markdown",
   "id": "8c2c033c",
   "metadata": {},
   "source": [
    "# Forward selection using Logistic regression"
   ]
  },
  {
   "cell_type": "markdown",
   "id": "59a71f89",
   "metadata": {},
   "source": [
    "## Representation"
   ]
  },
  {
   "cell_type": "code",
   "execution_count": 1,
   "id": "81dbd59d",
   "metadata": {},
   "outputs": [],
   "source": [
    "import matplotlib.pyplot as plt\n",
    "import seaborn as sns\n",
    "import numpy as np\n",
    "import pandas as pd\n",
    "from patsy import dmatrices\n",
    "#from mlxtend.feature_selection import SequentialFeatureSelector\n",
    "\n",
    "from sklearn.preprocessing import LabelEncoder\n",
    "from sklearn.preprocessing import StandardScaler\n",
    "from sklearn.model_selection import train_test_split\n",
    "from sklearn.metrics import accuracy_score"
   ]
  },
  {
   "cell_type": "code",
   "execution_count": null,
   "id": "8705a899",
   "metadata": {},
   "outputs": [],
   "source": []
  },
  {
   "cell_type": "code",
   "execution_count": 2,
   "id": "770f4ccb",
   "metadata": {},
   "outputs": [],
   "source": [
    "class LogisticRegression:\n",
    "    def __init__(self, learning_rate=0.001, n_iters=1000):\n",
    "        self.lr = learning_rate\n",
    "        self.n_iters = n_iters\n",
    "        self.weights = None\n",
    "        self.bias = None\n",
    "        self.coefficients = None\n",
    "        \n",
    "   \n",
    "\n",
    "    def fit(self, X, y, single_feature= False):\n",
    "        n_samples, n_features = X.shape \n",
    "\n",
    "        # init parameters\n",
    "        self.weights = np.zeros(n_features)\n",
    "        self.bias = 0\n",
    "\n",
    "        # gradient descent\n",
    "        for _ in range(self.n_iters):\n",
    "            # approximate y with linear combination of weights and x, plus bias\n",
    "            linear_model = np.dot(X, self.weights) + self.bias\n",
    "            # apply sigmoid function\n",
    "            y_predicted = self._sigmoid(linear_model)\n",
    "\n",
    "            # compute gradients\n",
    "            dw = (1 / n_samples) * np.dot(X.T, (y_predicted - y))\n",
    "            db = (1 / n_samples) * np.sum(y_predicted - y)\n",
    "            # update parameters\n",
    "            self.weights -= self.lr * dw\n",
    "            self.bias -= self.lr * db\n",
    "            \n",
    "        self.coefficients = regression_solver(X, y)\n",
    "\n",
    "    def predict(self, X):\n",
    "        linear_model = np.dot(X, self.weights) + self.bias\n",
    "        y_predicted = self._sigmoid(linear_model)\n",
    "        y_predicted_cls = [1 if i > 0.5 else 0 for i in y_predicted]\n",
    "        return np.array(y_predicted_cls)\n",
    "\n",
    "    def _sigmoid(self, x):\n",
    "        return 1 / (1 + np.exp(-x))\n",
    "    \n",
    "def regression_solver(X, y):\n",
    "    # Add a column of ones to X for the bias term\n",
    "    X = np.hstack((np.ones((X.shape[0], 1)), X))\n",
    "\n",
    "    # Use the normal equations to calculate the coefficients\n",
    "    XtX = np.dot(X.T, X)\n",
    "    XtX_inv = np.linalg.inv(XtX)\n",
    "    Xty = np.dot(X.T, y)\n",
    "    coefficients = np.dot(XtX_inv, Xty)\n",
    "\n",
    "    # The first element is the bias term, and the rest are feature coefficients\n",
    "    return coefficients   \n"
   ]
  },
  {
   "cell_type": "code",
   "execution_count": 3,
   "id": "9bd6bf2e",
   "metadata": {},
   "outputs": [],
   "source": [
    "def accuracy_score(y_true, y_pred):\n",
    "        accuracy = np.sum(y_true == y_pred) / len(y_true)\n",
    "        return accuracy"
   ]
  },
  {
   "cell_type": "code",
   "execution_count": 4,
   "id": "b7310048",
   "metadata": {},
   "outputs": [],
   "source": [
    "url = \"https://archive.ics.uci.edu/ml/machine-learning-databases/wine-quality/winequality-red.csv\"\n",
    "wine_data = pd.read_csv(url, sep=\";\")\n",
    "wine_data['quality'] = wine_data['quality']\n",
    "\n",
    "X = wine_data.drop('quality', axis=1)\n",
    "y = wine_data['quality'].apply(lambda x: 1 if x > 5 else 0)"
   ]
  },
  {
   "cell_type": "code",
   "execution_count": 5,
   "id": "cec9e3ff",
   "metadata": {},
   "outputs": [
    {
     "data": {
      "text/html": [
       "<div>\n",
       "<style scoped>\n",
       "    .dataframe tbody tr th:only-of-type {\n",
       "        vertical-align: middle;\n",
       "    }\n",
       "\n",
       "    .dataframe tbody tr th {\n",
       "        vertical-align: top;\n",
       "    }\n",
       "\n",
       "    .dataframe thead th {\n",
       "        text-align: right;\n",
       "    }\n",
       "</style>\n",
       "<table border=\"1\" class=\"dataframe\">\n",
       "  <thead>\n",
       "    <tr style=\"text-align: right;\">\n",
       "      <th></th>\n",
       "      <th>fixed acidity</th>\n",
       "      <th>volatile acidity</th>\n",
       "      <th>citric acid</th>\n",
       "      <th>residual sugar</th>\n",
       "      <th>chlorides</th>\n",
       "      <th>free sulfur dioxide</th>\n",
       "      <th>total sulfur dioxide</th>\n",
       "      <th>density</th>\n",
       "      <th>pH</th>\n",
       "      <th>sulphates</th>\n",
       "      <th>alcohol</th>\n",
       "    </tr>\n",
       "  </thead>\n",
       "  <tbody>\n",
       "    <tr>\n",
       "      <th>0</th>\n",
       "      <td>7.4</td>\n",
       "      <td>0.70</td>\n",
       "      <td>0.00</td>\n",
       "      <td>1.9</td>\n",
       "      <td>0.076</td>\n",
       "      <td>11.0</td>\n",
       "      <td>34.0</td>\n",
       "      <td>0.9978</td>\n",
       "      <td>3.51</td>\n",
       "      <td>0.56</td>\n",
       "      <td>9.4</td>\n",
       "    </tr>\n",
       "    <tr>\n",
       "      <th>1</th>\n",
       "      <td>7.8</td>\n",
       "      <td>0.88</td>\n",
       "      <td>0.00</td>\n",
       "      <td>2.6</td>\n",
       "      <td>0.098</td>\n",
       "      <td>25.0</td>\n",
       "      <td>67.0</td>\n",
       "      <td>0.9968</td>\n",
       "      <td>3.20</td>\n",
       "      <td>0.68</td>\n",
       "      <td>9.8</td>\n",
       "    </tr>\n",
       "    <tr>\n",
       "      <th>2</th>\n",
       "      <td>7.8</td>\n",
       "      <td>0.76</td>\n",
       "      <td>0.04</td>\n",
       "      <td>2.3</td>\n",
       "      <td>0.092</td>\n",
       "      <td>15.0</td>\n",
       "      <td>54.0</td>\n",
       "      <td>0.9970</td>\n",
       "      <td>3.26</td>\n",
       "      <td>0.65</td>\n",
       "      <td>9.8</td>\n",
       "    </tr>\n",
       "    <tr>\n",
       "      <th>3</th>\n",
       "      <td>11.2</td>\n",
       "      <td>0.28</td>\n",
       "      <td>0.56</td>\n",
       "      <td>1.9</td>\n",
       "      <td>0.075</td>\n",
       "      <td>17.0</td>\n",
       "      <td>60.0</td>\n",
       "      <td>0.9980</td>\n",
       "      <td>3.16</td>\n",
       "      <td>0.58</td>\n",
       "      <td>9.8</td>\n",
       "    </tr>\n",
       "    <tr>\n",
       "      <th>4</th>\n",
       "      <td>7.4</td>\n",
       "      <td>0.70</td>\n",
       "      <td>0.00</td>\n",
       "      <td>1.9</td>\n",
       "      <td>0.076</td>\n",
       "      <td>11.0</td>\n",
       "      <td>34.0</td>\n",
       "      <td>0.9978</td>\n",
       "      <td>3.51</td>\n",
       "      <td>0.56</td>\n",
       "      <td>9.4</td>\n",
       "    </tr>\n",
       "  </tbody>\n",
       "</table>\n",
       "</div>"
      ],
      "text/plain": [
       "   fixed acidity  volatile acidity  citric acid  residual sugar  chlorides  \\\n",
       "0            7.4              0.70         0.00             1.9      0.076   \n",
       "1            7.8              0.88         0.00             2.6      0.098   \n",
       "2            7.8              0.76         0.04             2.3      0.092   \n",
       "3           11.2              0.28         0.56             1.9      0.075   \n",
       "4            7.4              0.70         0.00             1.9      0.076   \n",
       "\n",
       "   free sulfur dioxide  total sulfur dioxide  density    pH  sulphates  \\\n",
       "0                 11.0                  34.0   0.9978  3.51       0.56   \n",
       "1                 25.0                  67.0   0.9968  3.20       0.68   \n",
       "2                 15.0                  54.0   0.9970  3.26       0.65   \n",
       "3                 17.0                  60.0   0.9980  3.16       0.58   \n",
       "4                 11.0                  34.0   0.9978  3.51       0.56   \n",
       "\n",
       "   alcohol  \n",
       "0      9.4  \n",
       "1      9.8  \n",
       "2      9.8  \n",
       "3      9.8  \n",
       "4      9.4  "
      ]
     },
     "execution_count": 5,
     "metadata": {},
     "output_type": "execute_result"
    }
   ],
   "source": [
    "X.head()"
   ]
  },
  {
   "cell_type": "code",
   "execution_count": 6,
   "id": "83ac016f",
   "metadata": {},
   "outputs": [
    {
     "data": {
      "text/plain": [
       "(1599, 11)"
      ]
     },
     "execution_count": 6,
     "metadata": {},
     "output_type": "execute_result"
    }
   ],
   "source": [
    "X.shape"
   ]
  },
  {
   "cell_type": "code",
   "execution_count": 7,
   "id": "f0e8c580",
   "metadata": {},
   "outputs": [
    {
     "name": "stdout",
     "output_type": "stream",
     "text": [
      "<class 'pandas.core.frame.DataFrame'>\n",
      "RangeIndex: 1599 entries, 0 to 1598\n",
      "Data columns (total 11 columns):\n",
      " #   Column                Non-Null Count  Dtype  \n",
      "---  ------                --------------  -----  \n",
      " 0   fixed acidity         1599 non-null   float64\n",
      " 1   volatile acidity      1599 non-null   float64\n",
      " 2   citric acid           1599 non-null   float64\n",
      " 3   residual sugar        1599 non-null   float64\n",
      " 4   chlorides             1599 non-null   float64\n",
      " 5   free sulfur dioxide   1599 non-null   float64\n",
      " 6   total sulfur dioxide  1599 non-null   float64\n",
      " 7   density               1599 non-null   float64\n",
      " 8   pH                    1599 non-null   float64\n",
      " 9   sulphates             1599 non-null   float64\n",
      " 10  alcohol               1599 non-null   float64\n",
      "dtypes: float64(11)\n",
      "memory usage: 137.5 KB\n"
     ]
    }
   ],
   "source": [
    "X.info()"
   ]
  },
  {
   "cell_type": "code",
   "execution_count": 8,
   "id": "69dd3087",
   "metadata": {},
   "outputs": [],
   "source": [
    "X_train, X_test, y_train, y_test = train_test_split(X, y, test_size=0.3, random_state=1, stratify=y)\n",
    "X_train, X_val, y_train, y_val = train_test_split(X_train, y_train, test_size=0.2, random_state=3, stratify=y_train)"
   ]
  },
  {
   "cell_type": "code",
   "execution_count": 9,
   "id": "e8ef819e",
   "metadata": {},
   "outputs": [],
   "source": [
    "scaler = StandardScaler()\n",
    "X_train = scaler.fit_transform(X_train)\n",
    "X_test = scaler.transform(X_test)"
   ]
  },
  {
   "cell_type": "code",
   "execution_count": 10,
   "id": "232c1b22",
   "metadata": {},
   "outputs": [
    {
     "data": {
      "text/plain": [
       "(895, 11)"
      ]
     },
     "execution_count": 10,
     "metadata": {},
     "output_type": "execute_result"
    }
   ],
   "source": [
    "X_train.shape"
   ]
  },
  {
   "cell_type": "markdown",
   "id": "c7699363",
   "metadata": {},
   "source": [
    "# Optimisation"
   ]
  },
  {
   "cell_type": "markdown",
   "id": "d6a483f2",
   "metadata": {},
   "source": [
    "## Hyperparameter tuning"
   ]
  },
  {
   "cell_type": "code",
   "execution_count": 11,
   "id": "68535614",
   "metadata": {},
   "outputs": [],
   "source": [
    "learning_rates=[0.1,0.01,0.001,0.0001]"
   ]
  },
  {
   "cell_type": "code",
   "execution_count": 12,
   "id": "cef40866",
   "metadata": {},
   "outputs": [],
   "source": [
    "def hypTune(X_train, y_train, X_val, y_val):\n",
    "    scores = []\n",
    "    for lr in learning_rates:\n",
    "        logReg = LogisticRegression(lr)\n",
    "        logReg.fit(X_train, y_train)\n",
    "        predict = logReg.predict(X_val)\n",
    "        acc = accuracy_score(y_val, predict)\n",
    "        scores.append(acc)\n",
    "    return scores"
   ]
  },
  {
   "cell_type": "code",
   "execution_count": 13,
   "id": "aba42b9b",
   "metadata": {},
   "outputs": [
    {
     "data": {
      "text/plain": [
       "[0.5044642857142857, 0.4955357142857143, 0.46875, 0.4732142857142857]"
      ]
     },
     "execution_count": 13,
     "metadata": {},
     "output_type": "execute_result"
    }
   ],
   "source": [
    "scores = hypTune(X_train, y_train, X_val, y_val)\n",
    "scores"
   ]
  },
  {
   "cell_type": "markdown",
   "id": "9b38e800",
   "metadata": {},
   "source": [
    "## Forward selection"
   ]
  },
  {
   "cell_type": "markdown",
   "id": "5e83f70d",
   "metadata": {},
   "source": [
    "### Psuedocode"
   ]
  },
  {
   "cell_type": "markdown",
   "id": "744ed93c",
   "metadata": {},
   "source": [
    "1. Start with empty SF set $A = \\emptyset$\n",
    "2. Initialise candidate set to be all original attributes $A_c = A$\n",
    "3. Find attribute $a_i$ with highest filter score\n",
    "4. Remove feature $a_i$ from candidate set: $A_c \\gets A \\cap a_i$\n",
    "5. Add feature $a_i$ to SF set:$A_s \\gets A_s \\cup a_i$\n",
    "6. Repeat steps 3-5 until convergence\n",
    "\n",
    "Filter types:\n",
    "- Correlation\n",
    "- Mutual information\n",
    "- Entropy\n",
    "- Classification rate\n",
    "- Regression score"
   ]
  },
  {
   "cell_type": "markdown",
   "id": "188fb529",
   "metadata": {},
   "source": [
    "# Feature importance"
   ]
  },
  {
   "cell_type": "code",
   "execution_count": 14,
   "id": "5e6820ee",
   "metadata": {},
   "outputs": [],
   "source": [
    "LR = LogisticRegression()\n",
    "LR.fit(X_train, y_train)"
   ]
  },
  {
   "cell_type": "code",
   "execution_count": 15,
   "id": "8c28cc15",
   "metadata": {},
   "outputs": [
    {
     "data": {
      "text/plain": [
       "array([ 0.05685858, -0.100884  , -0.02942406,  0.00991547, -0.04194257,\n",
       "        0.0321496 , -0.10132233, -0.03840215,  0.00086036,  0.10771086,\n",
       "        0.14726758])"
      ]
     },
     "execution_count": 15,
     "metadata": {},
     "output_type": "execute_result"
    }
   ],
   "source": [
    "feature_importance = LR.coefficients[1:]\n",
    "feature_importance"
   ]
  },
  {
   "cell_type": "code",
   "execution_count": 16,
   "id": "4ef9fa10",
   "metadata": {},
   "outputs": [
    {
     "data": {
      "text/plain": [
       "array([10,  9,  0,  5,  3,  8,  2,  7,  4,  1,  6])"
      ]
     },
     "execution_count": 16,
     "metadata": {},
     "output_type": "execute_result"
    }
   ],
   "source": [
    "sorted_idx = np.argsort(feature_importance)[::-1]\n",
    "sorted_idx"
   ]
  },
  {
   "cell_type": "code",
   "execution_count": 17,
   "id": "1dbb9a27",
   "metadata": {},
   "outputs": [
    {
     "data": {
      "text/plain": [
       "array([ 0.14726758,  0.10771086,  0.05685858,  0.0321496 ,  0.00991547,\n",
       "        0.00086036, -0.02942406, -0.03840215, -0.04194257, -0.100884  ,\n",
       "       -0.10132233])"
      ]
     },
     "execution_count": 17,
     "metadata": {},
     "output_type": "execute_result"
    }
   ],
   "source": [
    "feature_importance = feature_importance[sorted_idx]\n",
    "feature_importance"
   ]
  },
  {
   "cell_type": "code",
   "execution_count": 18,
   "id": "a8e372c3",
   "metadata": {},
   "outputs": [
    {
     "data": {
      "text/plain": [
       "Index(['fixed acidity', 'volatile acidity', 'citric acid', 'residual sugar',\n",
       "       'chlorides', 'free sulfur dioxide', 'total sulfur dioxide', 'density',\n",
       "       'pH', 'sulphates', 'alcohol'],\n",
       "      dtype='object')"
      ]
     },
     "execution_count": 18,
     "metadata": {},
     "output_type": "execute_result"
    }
   ],
   "source": [
    "col_names = X.columns\n",
    "col_names"
   ]
  },
  {
   "cell_type": "code",
   "execution_count": 19,
   "id": "b3915050",
   "metadata": {},
   "outputs": [
    {
     "data": {
      "text/plain": [
       "['alcohol',\n",
       " 'sulphates',\n",
       " 'fixed acidity',\n",
       " 'free sulfur dioxide',\n",
       " 'residual sugar',\n",
       " 'pH',\n",
       " 'citric acid',\n",
       " 'density',\n",
       " 'chlorides',\n",
       " 'volatile acidity',\n",
       " 'total sulfur dioxide']"
      ]
     },
     "execution_count": 19,
     "metadata": {},
     "output_type": "execute_result"
    }
   ],
   "source": [
    "feature_names= X.columns\n",
    "feature_names = [feature_names[i] for i in sorted_idx]\n",
    "feature_names"
   ]
  },
  {
   "cell_type": "code",
   "execution_count": 20,
   "id": "e01e5128",
   "metadata": {},
   "outputs": [],
   "source": [
    "def plot_feature_importance(X, y, feature_names=None):\n",
    "    \"\"\"\n",
    "    Compute and plot feature importance using Logistic Regression coefficients.\n",
    "    \n",
    "    Parameters:\n",
    "    - X: Input feature matrix (numpy array or pandas DataFrame).\n",
    "    - y: Target variable (numpy array or pandas Series).\n",
    "    - feature_names: List of feature names (optional).\n",
    "    \n",
    "    Returns:\n",
    "    - feature_importance: Array of feature importances (absolute coefficients).\n",
    "    \"\"\"\n",
    "    model = LogisticRegression()\n",
    "    model.fit(X, y)\n",
    "    \n",
    "    # Take the absolute values of coefficients, excluding the bias\n",
    "    feature_importance = np.abs(model.coefficients[1:]) \n",
    "    \n",
    "    if feature_names is None:\n",
    "        feature_names = [f\"Feature {i}\" for i in range(X.shape[1])]\n",
    "    \n",
    "    # Sort feature importance in descending order\n",
    "    sorted_idx = np.argsort(feature_importance)[::-1]\n",
    "    feature_importance = feature_importance[sorted_idx]\n",
    "    feature_names = [feature_names[i] for i in sorted_idx]\n",
    "    \n",
    "    # Plot feature importance\n",
    "    plt.figure(figsize=(10, 6))\n",
    "    plt.barh(range(len(feature_importance)),feature_importance, align='center')\n",
    "    plt.yticks(range(len(feature_importance)), feature_names)\n",
    "    plt.ylabel('Feature')\n",
    "    plt.xlabel('Feature Importance (Absolute Coefficient)')\n",
    "    plt.title('Feature Importance (Logistic Regression)')\n",
    "    plt.show()\n",
    "    \n",
    "    return feature_importance\n",
    "\n",
    "# Example usage:\n",
    "# Assuming you have X (feature matrix) and y (target variable)\n",
    "# feature_importance = plot_feature_importance_logistic_regression(X, y, feature_names=X.columns)\n"
   ]
  },
  {
   "cell_type": "code",
   "execution_count": 21,
   "id": "9ebf18d0",
   "metadata": {},
   "outputs": [
    {
     "data": {
      "image/png": "[encoded data removed]",
      "text/plain": [
       "<Figure size 720x432 with 1 Axes>"
      ]
     },
     "metadata": {
      "needs_background": "light"
     },
     "output_type": "display_data"
    }
   ],
   "source": [
    "feature_importance = plot_feature_importance(X_train, y_train, col_names)"
   ]
  },
  {
   "cell_type": "markdown",
   "id": "70f929e1",
   "metadata": {},
   "source": [
    "# Correlation feature selection"
   ]
  },
  {
   "cell_type": "code",
   "execution_count": 22,
   "id": "799f8788",
   "metadata": {},
   "outputs": [
    {
     "data": {
      "text/plain": [
       "<AxesSubplot:>"
      ]
     },
     "execution_count": 22,
     "metadata": {},
     "output_type": "execute_result"
    },
    {
     "data": {
      "image/png": "[encoded data removed]",
      "text/plain": [
       "<Figure size 1296x1296 with 2 Axes>"
      ]
     },
     "metadata": {
      "needs_background": "light"
     },
     "output_type": "display_data"
    }
   ],
   "source": [
    "#correlation map\n",
    "f,ax = plt.subplots(figsize=(18, 18))\n",
    "sns.heatmap(wine_data.corr(), annot=True, linewidths=.5, fmt= '.1f',ax=ax)"
   ]
  },
  {
   "cell_type": "code",
   "execution_count": 23,
   "id": "d312699b",
   "metadata": {},
   "outputs": [
    {
     "data": {
      "text/plain": [
       "alcohol                 0.476166\n",
       "volatile acidity        0.390558\n",
       "sulphates               0.251397\n",
       "citric acid             0.226373\n",
       "total sulfur dioxide    0.185100\n",
       "density                 0.174919\n",
       "chlorides               0.128907\n",
       "fixed acidity           0.124052\n",
       "pH                      0.057731\n",
       "free sulfur dioxide     0.050656\n",
       "residual sugar          0.013732\n",
       "Name: quality, dtype: float64"
      ]
     },
     "execution_count": 23,
     "metadata": {},
     "output_type": "execute_result"
    }
   ],
   "source": [
    "correlation_matrix = wine_data.corr()\n",
    "\n",
    "target_correlation = correlation_matrix[\"quality\"].drop(\"quality\")\n",
    "\n",
    "sorted_target_correlation = target_correlation.abs().sort_values(ascending=False)\n",
    "\n",
    "sorted_target_correlation"
   ]
  },
  {
   "cell_type": "code",
   "execution_count": 26,
   "id": "d0080053",
   "metadata": {},
   "outputs": [],
   "source": [
    "# Splitting the data into features and target variable\n",
    "X = wine_data.drop('quality', axis=1)\n",
    "y = wine_data['quality']"
   ]
  },
  {
   "cell_type": "code",
   "execution_count": 39,
   "id": "5a9fa07b",
   "metadata": {},
   "outputs": [],
   "source": [
    "def cross_validation(X, y, model, k=5):\n",
    "    \"\"\"\n",
    "    Perform k-fold cross-validation for a given model.\n",
    "\n",
    "    Parameters:\n",
    "        X (numpy.ndarray): Feature matrix.\n",
    "        y (numpy.ndarray): Target vector.\n",
    "        model: Your custom logistic regression model.\n",
    "        k (int): Number of folds for cross-validation.\n",
    "\n",
    "    Returns:\n",
    "        List of accuracy scores for each fold.\n",
    "    \"\"\"\n",
    "    n = len(X)\n",
    "    fold_size = n // k\n",
    "    accuracy_scores = []\n",
    "\n",
    "    for i in range(k):\n",
    "        # Split data into training and validation sets\n",
    "        start, end = i * fold_size, (i + 1) * fold_size\n",
    "        Xcv_train = np.concatenate((X[:start], X[end:]), axis=0)\n",
    "        ycv_train = np.concatenate((y[:start], y[end:]), axis=0)\n",
    "        Xcv_val, ycv_val = np.array(X[start:end]), np.array(y[start:end])\n",
    "       \n",
    "        # Fit the model on the training data\n",
    "        model.fit(Xcv_train, ycv_train)\n",
    "\n",
    "        # Make predictions on the validation data\n",
    "        y_pred = model.predict(Xcv_val)\n",
    "\n",
    "        # Calculate accuracy and store it\n",
    "        accuracy = accuracy_score(ycv_val, y_pred)\n",
    "        accuracy_scores.append(accuracy)\n",
    "\n",
    "    return accuracy_scores"
   ]
  },
  {
   "cell_type": "code",
   "execution_count": 46,
   "id": "1af15ae2",
   "metadata": {},
   "outputs": [],
   "source": [
    "from sklearn.model_selection import cross_val_score\n",
    "\n",
    "# Define a range of thresholds\n",
    "thresholds = [0.01, 0.02, 0.03, 0.04, 0.05, 0.06, 0.07, 0.08, 0.09, 0.1, 0.12, 0.14, 0.16, 0.18, 0.2, 0.25, 0.3]\n",
    "accuracies = []\n",
    "\n",
    "# For each threshold, select features and evaluate model performance using cross-validation\n",
    "for threshold in thresholds:\n",
    "    selected = sorted_target_correlation[sorted_target_correlation.abs() > threshold].index.tolist()\n",
    "    X_threshold = X[selected]\n",
    "    # Normalize the data\n",
    "    X_threshold_scaled = scaler.fit_transform(X_threshold)\n",
    "    # Using cross-validation to get accuracy\n",
    "    accuracy = cross_validation(X_threshold_scaled, y, LR, k=5)\n",
    "    accuracies.append(np.average(accuracy))"
   ]
  },
  {
   "cell_type": "code",
   "execution_count": 45,
   "id": "4f1c871d",
   "metadata": {},
   "outputs": [
    {
     "data": {
      "text/plain": [
       "0.7385579937304075"
      ]
     },
     "execution_count": 45,
     "metadata": {},
     "output_type": "execute_result"
    }
   ],
   "source": [
    "np.average(accuracy)"
   ]
  },
  {
   "cell_type": "code",
   "execution_count": 47,
   "id": "bc8f853c",
   "metadata": {},
   "outputs": [
    {
     "data": {
      "image/png": "[encoded data removed]",
      "text/plain": [
       "<Figure size 864x432 with 1 Axes>"
      ]
     },
     "metadata": {
      "needs_background": "light"
     },
     "output_type": "display_data"
    }
   ],
   "source": [
    "max_accuracy = max(accuracies)\n",
    "max_index = accuracies.index(max_accuracy)\n",
    "max_threshold = thresholds[max_index]\n",
    "\n",
    "# Plotting\n",
    "plt.figure(figsize=(12, 6))\n",
    "plt.plot(thresholds, accuracies, marker='o', linestyle='-', color='b')\n",
    "\n",
    "# Highlight the point with the highest accuracy\n",
    "plt.scatter(max_threshold, max_accuracy, color='r', s=100, zorder=5, label='Max Accuracy')\n",
    "\n",
    "# Annotate the highlighted point with its accuracy value\n",
    "plt.annotate(f'{max_threshold:.2f}', (max_threshold, max_accuracy), textcoords=\"offset points\", xytext=(35,-10), ha='center', fontsize=20)\n",
    "\n",
    "# Setting the title, x and y labels with specified font sizes and weights\n",
    "plt.title('Accuracy for Different Correlation Thresholds', fontweight='bold', fontsize=24)\n",
    "plt.xlabel('Correlation Threshold', fontsize=25)\n",
    "plt.ylabel('Accuracy', fontsize=25)\n",
    "plt.xticks(fontsize=20)\n",
    "plt.yticks(fontsize=20)\n",
    "plt.legend(fontsize=15)\n",
    "\n",
    "plt.grid(True, which='both', linestyle='--', linewidth=0.5)\n",
    "plt.tight_layout()\n",
    "plt.show()\n"
   ]
  },
  {
   "cell_type": "code",
   "execution_count": 48,
   "id": "9d2db7ac",
   "metadata": {},
   "outputs": [
    {
     "data": {
      "text/plain": [
       "['alcohol', 'volatile acidity']"
      ]
     },
     "execution_count": 48,
     "metadata": {},
     "output_type": "execute_result"
    }
   ],
   "source": [
    "# Adjusting the threshold for selecting features based on their correlation with the target to 0.08\n",
    "selected_features = sorted_target_correlation[sorted_target_correlation.abs() > 0.30].index.tolist()\n",
    "\n",
    "# Removing features that are highly correlated with each other\n",
    "for feature in selected_features:\n",
    "    if feature not in sorted_target_correlation.index:\n",
    "        continue  # The feature was already removed due to high correlation with another feature\n",
    "    high_corr_features = correlation_matrix[feature][selected_features].drop(feature)\n",
    "    redundant_features = high_corr_features[high_corr_features.abs() > 0.8].index.tolist()\n",
    "    for redundant_feature in redundant_features:\n",
    "        if sorted_target_correlation[feature] > sorted_target_correlation[redundant_feature]:\n",
    "            selected_features.remove(redundant_feature)\n",
    "        else:\n",
    "            selected_features.remove(feature)\n",
    "            break  # Exit inner loop if the feature was removed\n",
    "\n",
    "selected_features"
   ]
  },
  {
   "cell_type": "markdown",
   "id": "a3da0668",
   "metadata": {},
   "source": [
    "# Backward selection"
   ]
  },
  {
   "cell_type": "code",
   "execution_count": 77,
   "id": "330f7969",
   "metadata": {},
   "outputs": [],
   "source": [
    "def backward_selection(X, y, model, stopping_criterion=0.01):\n",
    "    \"\"\"\n",
    "    Perform backward feature selection and return selected features.\n",
    "    \n",
    "    Parameters:\n",
    "    - X: Input feature matrix (numpy array or pandas DataFrame).\n",
    "    - y: Target variable (numpy array or pandas Series).\n",
    "    - model: Machine learning model with a fit and predict method (e.g., sklearn classifier).\n",
    "    - stopping_criterion: The tolerance for feature removal. The process stops when accuracy drops below this threshold.\n",
    "    \n",
    "    Returns:\n",
    "    - selected_features: List of selected feature indices.\n",
    "    \"\"\"\n",
    "    num_features = X.shape[1]\n",
    "    selected_features = list(range(num_features))\n",
    "    X_train, X_test, y_train, y_test = train_test_split(X, y, test_size=0.2, random_state=42)\n",
    "    model.fit(X_train, y_train)\n",
    "    base_accuracy = accuracy_score(y_test, model.predict(X_test))\n",
    "    \n",
    "    while len(selected_features) > 1:\n",
    "        max_accuracy = -1\n",
    "        feature_to_remove = None\n",
    "\n",
    "        for feature_index in selected_features:\n",
    "            reduced_features = selected_features.copy()\n",
    "            reduced_features.remove(feature_index)\n",
    "            X_train_reduced = X_train[:, reduced_features]\n",
    "            X_test_reduced = X_test[:, reduced_features]\n",
    "\n",
    "            model.fit(X_train_reduced, y_train)\n",
    "            y_pred = model.predict(X_test_reduced)\n",
    "            accuracy = accuracy_score(y_test, y_pred)\n",
    "            print(accuracy)\n",
    "\n",
    "            if accuracy > max_accuracy:\n",
    "                max_accuracy = accuracy\n",
    "                feature_to_remove = feature_index\n",
    "\n",
    "        if (base_accuracy - max_accuracy) < stopping_criterion:\n",
    "            break\n",
    "\n",
    "        selected_features.remove(feature_to_remove)\n",
    "        base_accuracy = max_accuracy\n",
    "\n",
    "    return selected_features\n",
    "\n",
    "# Example usage:\n",
    "# Assuming you have X (feature matrix) and y (target variable)\n",
    "# selected_features = backward_selection(X, y, YourClassifier())\n"
   ]
  },
  {
   "cell_type": "code",
   "execution_count": 79,
   "id": "62fa549c",
   "metadata": {},
   "outputs": [
    {
     "name": "stdout",
     "output_type": "stream",
     "text": [
      "0.7653631284916201\n",
      "0.7430167597765364\n",
      "0.770949720670391\n",
      "0.7821229050279329\n",
      "0.7597765363128491\n",
      "0.7821229050279329\n",
      "0.7877094972067039\n",
      "0.770949720670391\n",
      "0.776536312849162\n",
      "0.7821229050279329\n",
      "0.7653631284916201\n"
     ]
    },
    {
     "data": {
      "text/plain": [
       "[0, 1, 2, 3, 4, 5, 6, 7, 8, 9, 10]"
      ]
     },
     "execution_count": 79,
     "metadata": {},
     "output_type": "execute_result"
    }
   ],
   "source": [
    "LG_model = LogisticRegression(0.1)\n",
    "selected_features = backward_selection(X_train,y_train, LG_model, 0.9)\n",
    "selected_features"
   ]
  },
  {
   "cell_type": "code",
   "execution_count": 31,
   "id": "6cc3571a",
   "metadata": {},
   "outputs": [],
   "source": [
    "def forward_selection(X, y, model, test_size=0.2, min_features=2):\n",
    "    num_features = X.shape[1]\n",
    "    selected_features = []\n",
    "    best_accuracy = 0.0\n",
    "    \n",
    "    X_train, X_test, y_train, y_test = train_test_split(X, y, test_size=test_size, random_state=42)\n",
    "    \n",
    "    while len(selected_features) < num_features:\n",
    "        best_feature = None\n",
    "        best_feature_index = None\n",
    "        for feature in range(num_features):\n",
    "            if feature in selected_features:\n",
    "                continue\n",
    "                \n",
    "            candidate_features = selected_features + [feature]\n",
    "            X_train_subset = X_train.iloc[candidate_features]\n",
    "            X_test_subset = X_test.iloc[candidate_features]\n",
    "            \n",
    "            model.fit(X_train_subset, y_train)\n",
    "            y_pred = model.predict(X_test_subset)\n",
    "            accuracy = accuracy_score(y_test, y_pred)\n",
    "            \n",
    "            if accuracy > best_accuracy:\n",
    "                best_accuracy = accuracy\n",
    "                best_feature = feature\n",
    "                best_feature_index = candidate_features\n",
    "        \n",
    "        if best_feature is not None:\n",
    "            selected_features.append(best_feature)\n",
    "        else:\n",
    "            break\n",
    "    \n",
    "    if len(selected_features) < min_features:\n",
    "        print(\"Warning: Minimum number of features not met. Returning top features by importance.\")\n",
    "        selected_features = np.argsort(-model.coef_[0])[:min_features]\n",
    "    \n",
    "    selected_features = np.array(selected_features)  # Convert to NumPy array\n",
    "    \n",
    "    return selected_features"
   ]
  },
  {
   "cell_type": "code",
   "execution_count": 32,
   "id": "205f480a",
   "metadata": {
    "scrolled": false
   },
   "outputs": [
    {
     "ename": "ValueError",
     "evalue": "shapes (22,1) and (3638,) not aligned: 1 (dim 1) != 3638 (dim 0)",
     "output_type": "error",
     "traceback": [
      "\u001b[0;31m---------------------------------------------------------------------------\u001b[0m",
      "\u001b[0;31mValueError\u001b[0m                                Traceback (most recent call last)",
      "\u001b[0;32m/tmp/ipykernel_6792/1547279007.py\u001b[0m in \u001b[0;36m<module>\u001b[0;34m\u001b[0m\n\u001b[1;32m      1\u001b[0m \u001b[0mLG_model\u001b[0m \u001b[0;34m=\u001b[0m \u001b[0mLogisticRegression\u001b[0m\u001b[0;34m(\u001b[0m\u001b[0;36m0.1\u001b[0m\u001b[0;34m)\u001b[0m\u001b[0;34m\u001b[0m\u001b[0;34m\u001b[0m\u001b[0m\n\u001b[0;32m----> 2\u001b[0;31m \u001b[0mselected_fetaures\u001b[0m \u001b[0;34m=\u001b[0m \u001b[0mforward_selection\u001b[0m\u001b[0;34m(\u001b[0m\u001b[0mX_train\u001b[0m\u001b[0;34m,\u001b[0m\u001b[0my_train\u001b[0m\u001b[0;34m,\u001b[0m \u001b[0mLG_model\u001b[0m\u001b[0;34m,\u001b[0m \u001b[0;36m0.2\u001b[0m\u001b[0;34m)\u001b[0m\u001b[0;34m\u001b[0m\u001b[0;34m\u001b[0m\u001b[0m\n\u001b[0m\u001b[1;32m      3\u001b[0m \u001b[0mselected_fetaures\u001b[0m\u001b[0;34m\u001b[0m\u001b[0;34m\u001b[0m\u001b[0m\n",
      "\u001b[0;32m/tmp/ipykernel_6792/4252857578.py\u001b[0m in \u001b[0;36mforward_selection\u001b[0;34m(X, y, model, test_size, min_features)\u001b[0m\n\u001b[1;32m     17\u001b[0m             \u001b[0mX_test_subset\u001b[0m \u001b[0;34m=\u001b[0m \u001b[0mX_test\u001b[0m\u001b[0;34m.\u001b[0m\u001b[0miloc\u001b[0m\u001b[0;34m[\u001b[0m\u001b[0mcandidate_features\u001b[0m\u001b[0;34m]\u001b[0m\u001b[0;34m\u001b[0m\u001b[0;34m\u001b[0m\u001b[0m\n\u001b[1;32m     18\u001b[0m \u001b[0;34m\u001b[0m\u001b[0m\n\u001b[0;32m---> 19\u001b[0;31m             \u001b[0mmodel\u001b[0m\u001b[0;34m.\u001b[0m\u001b[0mfit\u001b[0m\u001b[0;34m(\u001b[0m\u001b[0mX_train_subset\u001b[0m\u001b[0;34m,\u001b[0m \u001b[0my_train\u001b[0m\u001b[0;34m)\u001b[0m\u001b[0;34m\u001b[0m\u001b[0;34m\u001b[0m\u001b[0m\n\u001b[0m\u001b[1;32m     20\u001b[0m             \u001b[0my_pred\u001b[0m \u001b[0;34m=\u001b[0m \u001b[0mmodel\u001b[0m\u001b[0;34m.\u001b[0m\u001b[0mpredict\u001b[0m\u001b[0;34m(\u001b[0m\u001b[0mX_test_subset\u001b[0m\u001b[0;34m)\u001b[0m\u001b[0;34m\u001b[0m\u001b[0;34m\u001b[0m\u001b[0m\n\u001b[1;32m     21\u001b[0m             \u001b[0maccuracy\u001b[0m \u001b[0;34m=\u001b[0m \u001b[0maccuracy_score\u001b[0m\u001b[0;34m(\u001b[0m\u001b[0my_test\u001b[0m\u001b[0;34m,\u001b[0m \u001b[0my_pred\u001b[0m\u001b[0;34m)\u001b[0m\u001b[0;34m\u001b[0m\u001b[0;34m\u001b[0m\u001b[0m\n",
      "\u001b[0;32m/tmp/ipykernel_6792/3112057055.py\u001b[0m in \u001b[0;36mfit\u001b[0;34m(self, X, y, single_feature)\u001b[0m\n\u001b[1;32m     21\u001b[0m \u001b[0;34m\u001b[0m\u001b[0m\n\u001b[1;32m     22\u001b[0m             \u001b[0;31m# compute gradients\u001b[0m\u001b[0;34m\u001b[0m\u001b[0;34m\u001b[0m\u001b[0m\n\u001b[0;32m---> 23\u001b[0;31m             \u001b[0mdw\u001b[0m \u001b[0;34m=\u001b[0m \u001b[0;34m(\u001b[0m\u001b[0;36m1\u001b[0m \u001b[0;34m/\u001b[0m \u001b[0mn_samples\u001b[0m\u001b[0;34m)\u001b[0m \u001b[0;34m*\u001b[0m \u001b[0mnp\u001b[0m\u001b[0;34m.\u001b[0m\u001b[0mdot\u001b[0m\u001b[0;34m(\u001b[0m\u001b[0mX\u001b[0m\u001b[0;34m.\u001b[0m\u001b[0mT\u001b[0m\u001b[0;34m,\u001b[0m \u001b[0;34m(\u001b[0m\u001b[0my_predicted\u001b[0m \u001b[0;34m-\u001b[0m \u001b[0my\u001b[0m\u001b[0;34m)\u001b[0m\u001b[0;34m)\u001b[0m\u001b[0;34m\u001b[0m\u001b[0;34m\u001b[0m\u001b[0m\n\u001b[0m\u001b[1;32m     24\u001b[0m             \u001b[0mdb\u001b[0m \u001b[0;34m=\u001b[0m \u001b[0;34m(\u001b[0m\u001b[0;36m1\u001b[0m \u001b[0;34m/\u001b[0m \u001b[0mn_samples\u001b[0m\u001b[0;34m)\u001b[0m \u001b[0;34m*\u001b[0m \u001b[0mnp\u001b[0m\u001b[0;34m.\u001b[0m\u001b[0msum\u001b[0m\u001b[0;34m(\u001b[0m\u001b[0my_predicted\u001b[0m \u001b[0;34m-\u001b[0m \u001b[0my\u001b[0m\u001b[0;34m)\u001b[0m\u001b[0;34m\u001b[0m\u001b[0;34m\u001b[0m\u001b[0m\n\u001b[1;32m     25\u001b[0m             \u001b[0;31m# update parameters\u001b[0m\u001b[0;34m\u001b[0m\u001b[0;34m\u001b[0m\u001b[0m\n",
      "\u001b[0;32m<__array_function__ internals>\u001b[0m in \u001b[0;36mdot\u001b[0;34m(*args, **kwargs)\u001b[0m\n",
      "\u001b[0;31mValueError\u001b[0m: shapes (22,1) and (3638,) not aligned: 1 (dim 1) != 3638 (dim 0)"
     ]
    }
   ],
   "source": [
    "LG_model = LogisticRegression(0.1)\n",
    "selected_fetaures = forward_selection(X_train,y_train, LG_model, 0.2)\n",
    "selected_fetaures"
   ]
  },
  {
   "cell_type": "markdown",
   "id": "d9cafe9c",
   "metadata": {},
   "source": [
    "# Evaluation"
   ]
  },
  {
   "cell_type": "code",
   "execution_count": null,
   "id": "324f49e7",
   "metadata": {},
   "outputs": [],
   "source": [
    "accuracy(y_test, predicted)"
   ]
  },
  {
   "cell_type": "code",
   "execution_count": null,
   "id": "d515efb2",
   "metadata": {},
   "outputs": [],
   "source": [
    "# We use confusion matrix (TP, TN, FP, FN) to visualise the performance\n",
    "\n",
    "from sklearn.metrics import confusion_matrix, classification_report\n",
    "\n",
    "cm = confusion_matrix(y_test, predicted)"
   ]
  },
  {
   "cell_type": "code",
   "execution_count": null,
   "id": "b361e231",
   "metadata": {},
   "outputs": [],
   "source": [
    "# Plot confusion matrix\n",
    "fig, ax = plt.subplots(figsize=(3,3))\n",
    "ax.matshow(cm, cmap=plt.cm.Blues, alpha=0.3)\n",
    "for i in range(cm.shape[0]):\n",
    "    for j in range(cm.shape[1]):\n",
    "        ax.text(x=j, y=i, s=cm[i,j], va='center', ha='center')\n",
    "classes=[\"Edible\", \"poisoness\"]\n",
    "tick_marks = np.arange(len(classes))\n",
    "plt.xticks(tick_marks, classes, rotation=45)\n",
    "plt.yticks(tick_marks, classes)\n",
    "plt.xlabel('Predicted Values',)\n",
    "plt.ylabel('actual Values',);\n",
    "print(classification_report(y_test, predicted))"
   ]
  },
  {
   "cell_type": "code",
   "execution_count": null,
   "id": "5025bdee",
   "metadata": {},
   "outputs": [],
   "source": []
  }
 ],
 "metadata": {
  "kernelspec": {
   "display_name": "Python 3",
   "language": "python",
   "name": "python3"
  },
  "language_info": {
   "codemirror_mode": {
    "name": "ipython",
    "version": 3
   },
   "file_extension": ".py",
   "mimetype": "text/x-python",
   "name": "python",
   "nbconvert_exporter": "python",
   "pygments_lexer": "ipython3",
   "version": "3.8.8"
  }
 },
 "nbformat": 4,
 "nbformat_minor": 5
}
