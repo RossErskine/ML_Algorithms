{
 "cells": [
  {
   "cell_type": "code",
   "execution_count": 1,
   "id": "570d927f",
   "metadata": {},
   "outputs": [],
   "source": [
    "import numpy as np\n",
    "import pandas as pd\n",
    "import matplotlib.pyplot as plt\n",
    "\n",
    "import seaborn as sns"
   ]
  },
  {
   "cell_type": "code",
   "execution_count": 2,
   "id": "8f14b878",
   "metadata": {},
   "outputs": [],
   "source": [
    "import numpy as np \n",
    "\n",
    "class SVM:\n",
    "\n",
    "    def __init__(self, learning_rate=0.001, lambda_param=0.01, n_iters=1000):\n",
    "        self.lr = learning_rate\n",
    "        self.lambda_param = lambda_param\n",
    "        self.n_iters = n_iters\n",
    "        self.w = None\n",
    "        self.b = None\n",
    "\n",
    "\n",
    "    def fit(self, X, y):\n",
    "        n_samples, n_features = X.shape\n",
    "        \n",
    "        y_ = np.where(y <= 0, -1, 1)\n",
    "        \n",
    "        self.w = np.zeros(n_features)\n",
    "        self.b = 0\n",
    "\n",
    "        for _ in range(self.n_iters):\n",
    "            for idx, x_i in enumerate(X):\n",
    "                condition = y_[idx] * (np.dot(x_i, self.w) - self.b) >= 1\n",
    "                if condition:\n",
    "                    self.w -= self.lr * (2 * self.lambda_param * self.w)\n",
    "                else:\n",
    "                    self.w -= self.lr * (2 * self.lambda_param * self.w - np.dot(x_i, y_[idx]))\n",
    "                    self.b -= self.lr * y_[idx]\n",
    "\n",
    "\n",
    "    def predict(self, X):\n",
    "        approx = np.dot(X, self.w) - self.b\n",
    "        return np.sign(approx)"
   ]
  },
  {
   "cell_type": "code",
   "execution_count": 12,
   "id": "ff15995b",
   "metadata": {},
   "outputs": [
    {
     "data": {
      "text/plain": [
       "(50, 8)"
      ]
     },
     "execution_count": 12,
     "metadata": {},
     "output_type": "execute_result"
    }
   ],
   "source": [
    "from sklearn import datasets\n",
    "X, y = datasets.make_blobs(\n",
    "        n_samples=50, n_features=8, centers=2, cluster_std=1.05, random_state=40\n",
    "    )\n",
    "y = np.where(y == 0, -1, 1)\n",
    "X.shape"
   ]
  },
  {
   "cell_type": "code",
   "execution_count": 13,
   "id": "d3080a06",
   "metadata": {},
   "outputs": [
    {
     "data": {
      "text/plain": [
       "array([[-2.37965416e+00, -8.74973418e+00,  4.20397723e+00,\n",
       "        -3.61164749e+00,  4.45015706e-01, -5.70962188e+00,\n",
       "        -1.67295396e-02,  1.17980586e+00],\n",
       "       [-9.68093229e-01, -9.10081953e+00,  5.67381136e+00,\n",
       "        -3.33963413e+00, -1.87414036e+00, -3.05733575e+00,\n",
       "         1.26483047e+00,  3.10452280e+00],\n",
       "       [ 5.72724935e+00,  5.24173089e+00,  9.84382698e+00,\n",
       "         2.32911633e+00,  8.27002160e+00,  3.74957494e+00,\n",
       "        -9.19325861e+00,  7.24976663e+00],\n",
       "       [ 4.06882459e+00,  6.35854917e+00,  1.04405013e+01,\n",
       "         7.53200725e-01,  4.55472543e+00,  3.00686593e+00,\n",
       "        -8.42218330e+00,  8.52712013e+00],\n",
       "       [-1.81294631e+00, -7.55640734e+00,  6.89571784e+00,\n",
       "        -3.81728739e+00,  6.35224932e-01, -4.24870176e+00,\n",
       "        -9.20211417e-01,  3.91622348e+00],\n",
       "       [ 2.80892077e-03, -7.84209340e+00,  3.54475478e+00,\n",
       "        -2.25032946e+00, -2.09809021e+00, -3.83636464e+00,\n",
       "         1.52242730e+00,  1.91584168e+00],\n",
       "       [-2.28022731e+00, -8.64954072e+00,  5.00419964e+00,\n",
       "        -2.55503395e+00, -2.58586660e+00, -3.44295099e+00,\n",
       "        -3.75282263e-01,  1.36423495e+00],\n",
       "       [ 5.68726083e+00,  5.09873630e+00,  8.96218892e+00,\n",
       "         3.29593855e+00,  6.83785575e+00,  4.57121504e+00,\n",
       "        -9.32152271e+00,  9.46877001e+00],\n",
       "       [ 5.29024541e+00,  3.59162113e+00,  1.05371579e+01,\n",
       "         2.12499680e+00,  7.26971688e+00,  4.37779730e+00,\n",
       "        -9.44086610e+00,  7.03088522e+00],\n",
       "       [ 6.41399086e+00,  2.92568184e+00,  9.98300608e+00,\n",
       "         1.53598515e+00,  7.33753126e+00,  2.64642644e+00,\n",
       "        -1.12610621e+01,  7.76664403e+00],\n",
       "       [ 5.88790583e+00,  2.95500113e+00,  8.89473183e+00,\n",
       "         8.69201631e-01,  6.50909363e+00,  3.14098490e+00,\n",
       "        -1.03753329e+01,  8.57770313e+00],\n",
       "       [ 6.50556560e+00,  2.92998739e+00,  9.47397471e+00,\n",
       "         1.85717138e+00,  6.62824467e+00,  4.01572858e+00,\n",
       "        -8.53367704e+00,  7.74144597e+00],\n",
       "       [-1.83682056e+00, -8.21952131e+00,  5.58410503e+00,\n",
       "        -3.52280481e+00, -2.24114961e+00, -4.27003559e+00,\n",
       "         5.59570431e-01,  1.31293333e+00],\n",
       "       [ 5.90151339e+00,  3.61484990e+00,  1.15175343e+01,\n",
       "         1.68572980e+00,  5.64880250e+00,  4.38227671e+00,\n",
       "        -1.10264780e+01,  7.61969771e+00],\n",
       "       [-2.78115277e+00, -7.95973394e+00,  6.67146128e+00,\n",
       "        -3.44706713e+00, -3.59212162e-01, -3.65015592e+00,\n",
       "        -1.51958194e+00,  1.80440653e+00],\n",
       "       [ 3.82185352e+00,  2.80552184e+00,  9.98828248e+00,\n",
       "         3.14579735e+00,  6.75949280e+00,  5.03686915e+00,\n",
       "        -9.95918390e+00,  7.05664085e+00],\n",
       "       [-1.56398651e+00, -1.07211253e+01,  5.90351519e+00,\n",
       "        -4.41643011e+00, -1.45700326e-01, -4.85763006e+00,\n",
       "         4.60205865e-01,  2.33316780e+00],\n",
       "       [ 6.16247469e+00,  3.70553386e+00,  9.28570806e+00,\n",
       "         1.04137103e+00,  6.59669347e+00,  3.59131309e+00,\n",
       "        -1.03893186e+01,  7.23984730e+00],\n",
       "       [-5.58857545e-01, -7.08490173e+00,  5.54875106e+00,\n",
       "        -5.53067841e+00, -3.21275540e-01, -5.23163949e+00,\n",
       "         5.60936293e-01,  3.05980170e+00],\n",
       "       [ 6.04999065e+00,  3.09128453e+00,  1.02233354e+01,\n",
       "         2.11196870e+00,  5.54564040e+00,  6.25383739e+00,\n",
       "        -8.45066747e+00,  6.67305158e+00],\n",
       "       [ 5.51993517e+00,  5.29035901e+00,  1.00507710e+01,\n",
       "         1.15339006e+00,  6.40930523e+00,  2.42556581e+00,\n",
       "        -7.77775254e+00,  1.04690743e+01],\n",
       "       [-1.76772086e+00, -9.42358002e+00,  6.87572572e+00,\n",
       "        -3.23392588e+00, -9.12315146e-01, -4.37850471e+00,\n",
       "         1.10863460e+00,  2.75629638e+00],\n",
       "       [ 5.49153714e+00,  4.09438936e+00,  6.98326630e+00,\n",
       "         1.89073884e+00,  6.73449209e+00,  3.72177235e+00,\n",
       "        -9.71606739e+00,  7.23371726e+00],\n",
       "       [ 4.96729670e+00,  3.50169104e+00,  9.69059933e+00,\n",
       "         1.93087596e+00,  7.08740786e+00,  4.43294352e+00,\n",
       "        -1.06116937e+01,  8.51632008e+00],\n",
       "       [-2.06912380e+00, -9.22193211e+00,  7.48192008e+00,\n",
       "        -4.07180017e+00, -8.72773873e-01, -3.82928737e+00,\n",
       "         8.47141700e-01,  2.07777175e+00],\n",
       "       [-1.27266937e+00, -8.03167005e+00,  5.45188653e+00,\n",
       "        -2.42505765e+00, -7.31501104e-02, -3.08688063e+00,\n",
       "         1.16855259e-01,  1.29378694e+00],\n",
       "       [ 4.99874377e+00,  3.37817762e+00,  8.09609116e+00,\n",
       "         1.99113985e+00,  3.22152168e+00,  3.75795710e+00,\n",
       "        -8.82271935e+00,  6.16557416e+00],\n",
       "       [ 5.01619888e+00,  3.93657081e+00,  1.02634395e+01,\n",
       "         2.97786692e+00,  6.44752317e+00,  3.30375779e+00,\n",
       "        -8.93666599e+00,  8.11510083e+00],\n",
       "       [-2.91411681e+00, -9.03305688e+00,  5.31060277e+00,\n",
       "        -3.73578064e+00, -1.20194784e+00, -5.26048668e+00,\n",
       "         8.36159348e-01,  2.59064209e+00],\n",
       "       [-1.81716220e+00, -9.22909875e+00,  4.88221862e+00,\n",
       "        -4.70899667e+00, -2.39687449e+00, -3.70212311e+00,\n",
       "        -9.67546881e-01,  1.89509356e+00],\n",
       "       [-1.75939894e+00, -9.16588161e+00,  6.23774527e+00,\n",
       "        -3.32223351e+00, -2.36073684e+00, -4.09692085e+00,\n",
       "        -1.26312222e+00,  2.24485707e+00],\n",
       "       [-2.02884797e+00, -7.50496448e+00,  4.12370702e+00,\n",
       "        -4.86146737e+00, -5.35181845e-01, -4.71230814e+00,\n",
       "        -4.42316835e-01, -8.26615308e-02],\n",
       "       [-4.89643672e-01, -9.07822530e+00,  7.54287406e+00,\n",
       "        -5.35284052e+00, -3.18762042e-01, -4.10336372e+00,\n",
       "        -6.39677737e-01,  2.45450634e+00],\n",
       "       [ 6.74958486e+00,  3.96121119e+00,  1.02193338e+01,\n",
       "         2.10886890e+00,  6.11150732e+00,  2.50244191e+00,\n",
       "        -9.62786012e+00,  7.76473449e+00],\n",
       "       [-1.83198316e+00, -1.04029787e+01,  6.83463082e+00,\n",
       "        -4.65355237e+00, -6.72069993e-01, -2.67227676e+00,\n",
       "         1.03355998e+00,  3.35324949e+00],\n",
       "       [-4.87130376e+00, -8.90918865e+00,  3.99337867e+00,\n",
       "        -4.90451269e+00, -7.49468339e-02, -2.11625893e+00,\n",
       "         5.63995079e-01,  1.58538823e+00],\n",
       "       [-3.75045730e+00, -8.67898121e+00,  6.32916529e+00,\n",
       "        -5.32177094e+00, -2.93344133e+00, -3.74057737e+00,\n",
       "         1.35350210e+00,  2.40120073e+00],\n",
       "       [ 7.16962504e+00,  5.07311974e+00,  9.06725673e+00,\n",
       "         4.59129333e+00,  4.48772697e+00,  4.64546623e+00,\n",
       "        -1.05435537e+01,  6.53476269e+00],\n",
       "       [ 6.93998260e+00,  3.41707165e+00,  8.76225295e+00,\n",
       "         5.62627931e-01,  7.50173273e+00,  5.32531162e+00,\n",
       "        -9.37650998e+00,  7.70091432e+00],\n",
       "       [-2.42368058e+00, -1.10272342e+01,  7.24901124e+00,\n",
       "        -3.58913263e+00,  1.33039597e+00, -4.47468629e+00,\n",
       "         1.09801625e+00,  2.38754057e+00],\n",
       "       [-2.62575398e+00, -9.08839248e+00,  5.42764452e+00,\n",
       "        -3.40935431e+00, -7.74613147e-01, -3.96179779e+00,\n",
       "         1.49428045e+00,  1.90518046e+00],\n",
       "       [ 5.37770977e+00,  5.77816455e+00,  9.00862476e+00,\n",
       "         2.48006361e+00,  4.70185191e+00,  2.41631466e+00,\n",
       "        -8.50847803e+00,  7.59557784e+00],\n",
       "       [ 1.15410376e-01, -7.03486174e+00,  5.29826038e+00,\n",
       "        -5.66062395e+00,  2.87420191e-03, -2.31752661e+00,\n",
       "         2.58208462e-01,  1.01161455e+00],\n",
       "       [-3.51375447e+00, -9.86709022e+00,  5.18987270e+00,\n",
       "        -4.47707464e+00, -1.76315259e+00, -3.53248852e+00,\n",
       "         1.61043821e+00,  2.79543726e+00],\n",
       "       [-1.24450778e+00, -1.01721964e+01,  4.96065311e+00,\n",
       "        -4.62403097e+00,  2.61633313e+00, -3.54616833e+00,\n",
       "         7.63856040e-01,  2.80942979e+00],\n",
       "       [ 3.92769708e+00,  4.65530776e+00,  9.61711403e+00,\n",
       "         9.46490380e-01,  6.95584336e+00,  3.86390764e+00,\n",
       "        -7.92878931e+00,  8.24658412e+00],\n",
       "       [ 5.51445402e+00,  5.52219326e+00,  8.93038529e+00,\n",
       "         2.15050227e+00,  7.90834490e+00,  5.39126542e+00,\n",
       "        -9.22640366e+00,  9.23944172e+00],\n",
       "       [ 2.52836745e+00,  4.45192772e+00,  1.08885454e+01,\n",
       "         2.71498752e+00,  5.63354975e+00,  4.04491576e+00,\n",
       "        -9.01466816e+00,  6.88281876e+00],\n",
       "       [ 5.75909316e+00,  4.20433348e+00,  8.55472854e+00,\n",
       "        -1.20432059e+00,  7.47447901e+00,  4.66669215e+00,\n",
       "        -8.66346252e+00,  7.31886432e+00],\n",
       "       [ 4.99087267e+00,  3.70640286e+00,  1.16673495e+01,\n",
       "         2.40282445e+00,  5.25425616e+00,  4.54492700e+00,\n",
       "        -1.01202048e+01,  7.82629002e+00]])"
      ]
     },
     "execution_count": 13,
     "metadata": {},
     "output_type": "execute_result"
    }
   ],
   "source": [
    "X"
   ]
  },
  {
   "cell_type": "code",
   "execution_count": 7,
   "id": "804acd19",
   "metadata": {},
   "outputs": [
    {
     "data": {
      "text/plain": [
       "array([ 1,  1, -1,  1, -1, -1,  1, -1,  1, -1,  1,  1, -1,  1,  1,  1,  1,\n",
       "        1,  1,  1, -1, -1, -1, -1, -1, -1, -1, -1, -1, -1,  1,  1, -1, -1,\n",
       "        1, -1,  1, -1,  1,  1, -1, -1,  1,  1,  1, -1, -1,  1,  1, -1])"
      ]
     },
     "execution_count": 7,
     "metadata": {},
     "output_type": "execute_result"
    }
   ],
   "source": [
    "y"
   ]
  },
  {
   "cell_type": "code",
   "execution_count": 14,
   "id": "45fc51bb",
   "metadata": {},
   "outputs": [
    {
     "name": "stdout",
     "output_type": "stream",
     "text": [
      "[ 0.03128145  0.0864297  -0.00784229  0.04889619  0.02201526  0.0466106\n",
      " -0.04386406  0.01749552] 0.009000000000000001\n"
     ]
    }
   ],
   "source": [
    "model=SVM()\n",
    "model.fit(X, y)\n",
    "print(model.w, model.b)"
   ]
  },
  {
   "cell_type": "code",
   "execution_count": 15,
   "id": "1af25a39",
   "metadata": {},
   "outputs": [],
   "source": [
    "def visualize_svm():\n",
    "        def get_hyperplane_value(x, w, b, offset):\n",
    "            return (-w[0] * x + b + offset) / w[1]\n",
    "\n",
    "        fig = plt.figure()\n",
    "        ax = fig.add_subplot(1, 1, 1)\n",
    "        plt.scatter(X[:, 0], X[:, 1], marker=\"o\", c=y)\n",
    "\n",
    "        x0_1 = np.amin(X[:, 0])\n",
    "        x0_2 = np.amax(X[:, 0])\n",
    "\n",
    "        x1_1 = get_hyperplane_value(x0_1, model.w, model.b, 0)\n",
    "        x1_2 = get_hyperplane_value(x0_2, model.w, model.b, 0)\n",
    "\n",
    "        x1_1_m = get_hyperplane_value(x0_1, model.w, model.b, -1)\n",
    "        x1_2_m = get_hyperplane_value(x0_2, model.w, model.b, -1)\n",
    "\n",
    "        x1_1_p = get_hyperplane_value(x0_1, model.w, model.b, 1)\n",
    "        x1_2_p = get_hyperplane_value(x0_2, model.w, model.b, 1)\n",
    "\n",
    "        ax.plot([x0_1, x0_2], [x1_1, x1_2], \"y--\")\n",
    "        ax.plot([x0_1, x0_2], [x1_1_m, x1_2_m], \"k\")\n",
    "        ax.plot([x0_1, x0_2], [x1_1_p, x1_2_p], \"k\")\n",
    "\n",
    "        x1_min = np.amin(X[:, 1])\n",
    "        x1_max = np.amax(X[:, 1])\n",
    "        ax.set_ylim([x1_min - 3, x1_max + 3])\n",
    "\n",
    "        plt.show()\n"
   ]
  },
  {
   "cell_type": "code",
   "execution_count": 16,
   "id": "f9db4331",
   "metadata": {},
   "outputs": [
    {
     "data": {
      "image/png": "[encoded data removed]",
      "text/plain": [
       "<Figure size 640x480 with 1 Axes>"
      ]
     },
     "metadata": {},
     "output_type": "display_data"
    }
   ],
   "source": [
    "visualize_svm()"
   ]
  },
  {
   "cell_type": "code",
   "execution_count": null,
   "id": "89ab0cf3",
   "metadata": {},
   "outputs": [],
   "source": []
  }
 ],
 "metadata": {
  "kernelspec": {
   "display_name": "Python 3 (ipykernel)",
   "language": "python",
   "name": "python3"
  },
  "language_info": {
   "codemirror_mode": {
    "name": "ipython",
    "version": 3
   },
   "file_extension": ".py",
   "mimetype": "text/x-python",
   "name": "python",
   "nbconvert_exporter": "python",
   "pygments_lexer": "ipython3",
   "version": "3.9.12"
  }
 },
 "nbformat": 4,
 "nbformat_minor": 5
}
