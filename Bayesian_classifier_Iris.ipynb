{
 "cells": [
  {
   "cell_type": "markdown",
   "id": "2c305c77",
   "metadata": {},
   "source": [
    "# Bayesian_classifier_Iris\n",
    "\n",
    "- Split data for test and training\n",
    "- split data by class\n",
    "- Calculate mean/stddev for each column\n",
    "- Calculate Gaussian probability for each class\n",
    "- test on unseen data"
   ]
  },
  {
   "cell_type": "markdown",
   "id": "da8ae79e",
   "metadata": {},
   "source": [
    "### Library's"
   ]
  },
  {
   "cell_type": "code",
   "execution_count": 3,
   "id": "ba291f72",
   "metadata": {},
   "outputs": [],
   "source": [
    "import numpy as np\n",
    "import pandas as pd\n",
    "\n",
    "from math import sqrt\n",
    "from math import pi\n",
    "from math import exp\n",
    "\n",
    "import sklearn\n",
    "from sklearn.model_selection import train_test_split"
   ]
  },
  {
   "cell_type": "markdown",
   "id": "a38675f0",
   "metadata": {},
   "source": [
    "### Upload Iris dataset\n",
    "Upload Iris dataset from Kaggle.com. Drop Id column"
   ]
  },
  {
   "cell_type": "code",
   "execution_count": 39,
   "id": "6a8fa8da",
   "metadata": {},
   "outputs": [
    {
     "data": {
      "text/html": [
       "<div>\n",
       "<style scoped>\n",
       "    .dataframe tbody tr th:only-of-type {\n",
       "        vertical-align: middle;\n",
       "    }\n",
       "\n",
       "    .dataframe tbody tr th {\n",
       "        vertical-align: top;\n",
       "    }\n",
       "\n",
       "    .dataframe thead th {\n",
       "        text-align: right;\n",
       "    }\n",
       "</style>\n",
       "<table border=\"1\" class=\"dataframe\">\n",
       "  <thead>\n",
       "    <tr style=\"text-align: right;\">\n",
       "      <th></th>\n",
       "      <th>SepalLengthCm</th>\n",
       "      <th>SepalWidthCm</th>\n",
       "      <th>PetalLengthCm</th>\n",
       "      <th>PetalWidthCm</th>\n",
       "      <th>Species</th>\n",
       "    </tr>\n",
       "  </thead>\n",
       "  <tbody>\n",
       "    <tr>\n",
       "      <th>0</th>\n",
       "      <td>5.1</td>\n",
       "      <td>3.5</td>\n",
       "      <td>1.4</td>\n",
       "      <td>0.2</td>\n",
       "      <td>Iris-setosa</td>\n",
       "    </tr>\n",
       "    <tr>\n",
       "      <th>1</th>\n",
       "      <td>4.9</td>\n",
       "      <td>3.0</td>\n",
       "      <td>1.4</td>\n",
       "      <td>0.2</td>\n",
       "      <td>Iris-setosa</td>\n",
       "    </tr>\n",
       "    <tr>\n",
       "      <th>2</th>\n",
       "      <td>4.7</td>\n",
       "      <td>3.2</td>\n",
       "      <td>1.3</td>\n",
       "      <td>0.2</td>\n",
       "      <td>Iris-setosa</td>\n",
       "    </tr>\n",
       "    <tr>\n",
       "      <th>3</th>\n",
       "      <td>4.6</td>\n",
       "      <td>3.1</td>\n",
       "      <td>1.5</td>\n",
       "      <td>0.2</td>\n",
       "      <td>Iris-setosa</td>\n",
       "    </tr>\n",
       "    <tr>\n",
       "      <th>4</th>\n",
       "      <td>5.0</td>\n",
       "      <td>3.6</td>\n",
       "      <td>1.4</td>\n",
       "      <td>0.2</td>\n",
       "      <td>Iris-setosa</td>\n",
       "    </tr>\n",
       "  </tbody>\n",
       "</table>\n",
       "</div>"
      ],
      "text/plain": [
       "   SepalLengthCm  SepalWidthCm  PetalLengthCm  PetalWidthCm      Species\n",
       "0            5.1           3.5            1.4           0.2  Iris-setosa\n",
       "1            4.9           3.0            1.4           0.2  Iris-setosa\n",
       "2            4.7           3.2            1.3           0.2  Iris-setosa\n",
       "3            4.6           3.1            1.5           0.2  Iris-setosa\n",
       "4            5.0           3.6            1.4           0.2  Iris-setosa"
      ]
     },
     "execution_count": 39,
     "metadata": {},
     "output_type": "execute_result"
    }
   ],
   "source": [
    "# Load csv file \n",
    "all_df = pd.read_csv('./Iris.csv', index_col=False)\n",
    "\n",
    "# drop ID column\n",
    "all_df.drop('Id',axis=1,inplace=True)\n",
    "all_df.head()"
   ]
  },
  {
   "cell_type": "markdown",
   "id": "e0958304",
   "metadata": {},
   "source": [
    "### Encode label column"
   ]
  },
  {
   "cell_type": "code",
   "execution_count": 40,
   "id": "f2c5be9e",
   "metadata": {},
   "outputs": [
    {
     "data": {
      "text/html": [
       "<div>\n",
       "<style scoped>\n",
       "    .dataframe tbody tr th:only-of-type {\n",
       "        vertical-align: middle;\n",
       "    }\n",
       "\n",
       "    .dataframe tbody tr th {\n",
       "        vertical-align: top;\n",
       "    }\n",
       "\n",
       "    .dataframe thead th {\n",
       "        text-align: right;\n",
       "    }\n",
       "</style>\n",
       "<table border=\"1\" class=\"dataframe\">\n",
       "  <thead>\n",
       "    <tr style=\"text-align: right;\">\n",
       "      <th></th>\n",
       "      <th>SepalLengthCm</th>\n",
       "      <th>SepalWidthCm</th>\n",
       "      <th>PetalLengthCm</th>\n",
       "      <th>PetalWidthCm</th>\n",
       "      <th>Species</th>\n",
       "    </tr>\n",
       "  </thead>\n",
       "  <tbody>\n",
       "    <tr>\n",
       "      <th>0</th>\n",
       "      <td>5.1</td>\n",
       "      <td>3.5</td>\n",
       "      <td>1.4</td>\n",
       "      <td>0.2</td>\n",
       "      <td>0</td>\n",
       "    </tr>\n",
       "    <tr>\n",
       "      <th>1</th>\n",
       "      <td>4.9</td>\n",
       "      <td>3.0</td>\n",
       "      <td>1.4</td>\n",
       "      <td>0.2</td>\n",
       "      <td>0</td>\n",
       "    </tr>\n",
       "    <tr>\n",
       "      <th>2</th>\n",
       "      <td>4.7</td>\n",
       "      <td>3.2</td>\n",
       "      <td>1.3</td>\n",
       "      <td>0.2</td>\n",
       "      <td>0</td>\n",
       "    </tr>\n",
       "    <tr>\n",
       "      <th>3</th>\n",
       "      <td>4.6</td>\n",
       "      <td>3.1</td>\n",
       "      <td>1.5</td>\n",
       "      <td>0.2</td>\n",
       "      <td>0</td>\n",
       "    </tr>\n",
       "    <tr>\n",
       "      <th>4</th>\n",
       "      <td>5.0</td>\n",
       "      <td>3.6</td>\n",
       "      <td>1.4</td>\n",
       "      <td>0.2</td>\n",
       "      <td>0</td>\n",
       "    </tr>\n",
       "  </tbody>\n",
       "</table>\n",
       "</div>"
      ],
      "text/plain": [
       "   SepalLengthCm  SepalWidthCm  PetalLengthCm  PetalWidthCm  Species\n",
       "0            5.1           3.5            1.4           0.2        0\n",
       "1            4.9           3.0            1.4           0.2        0\n",
       "2            4.7           3.2            1.3           0.2        0\n",
       "3            4.6           3.1            1.5           0.2        0\n",
       "4            5.0           3.6            1.4           0.2        0"
      ]
     },
     "execution_count": 40,
     "metadata": {},
     "output_type": "execute_result"
    }
   ],
   "source": [
    "# Assign features to X\n",
    "X = all_df\n",
    "\n",
    "# transform Species into integers\n",
    "from sklearn.preprocessing import LabelEncoder\n",
    "le = LabelEncoder()\n",
    "X['Species']= le.fit_transform(X['Species'])\n",
    "\n",
    "# assign numerical label to y\n",
    "#y = X['Species']\n",
    "#X = X.drop('Species', axis=1)\n",
    "X.head()"
   ]
  },
  {
   "cell_type": "markdown",
   "id": "83a98c8d",
   "metadata": {},
   "source": [
    "### Split dataset into training and testing set"
   ]
  },
  {
   "cell_type": "code",
   "execution_count": 41,
   "id": "4828b7ae",
   "metadata": {},
   "outputs": [
    {
     "data": {
      "text/plain": [
       "2    46\n",
       "0    45\n",
       "1    44\n",
       "Name: Species, dtype: int64"
      ]
     },
     "execution_count": 41,
     "metadata": {},
     "output_type": "execute_result"
    }
   ],
   "source": [
    "X_train, X_test = train_test_split(X, test_size=0.10, random_state=1)\n",
    "X_train['Species'].value_counts()"
   ]
  },
  {
   "cell_type": "code",
   "execution_count": null,
   "id": "894591e2",
   "metadata": {},
   "outputs": [],
   "source": []
  },
  {
   "cell_type": "markdown",
   "id": "ba6844b1",
   "metadata": {},
   "source": [
    "### Split dataset by Class\n",
    "spli data set by class and return numpy array so statistics can be performed on the set."
   ]
  },
  {
   "cell_type": "code",
   "execution_count": 42,
   "id": "8f401efc",
   "metadata": {},
   "outputs": [],
   "source": [
    "def class_split(dataset):\n",
    "    classes = {}\n",
    "    by_class = dataset.groupby('Species')\n",
    "    #by_class.head()\n",
    "\n",
    "    for groups, data in by_class:\n",
    "        classes[groups] = data\n",
    "    return pd.DataFrame(classes[0]).to_numpy(), pd.DataFrame(classes[1]).to_numpy(), pd.DataFrame(classes[2]).to_numpy()"
   ]
  },
  {
   "cell_type": "code",
   "execution_count": 43,
   "id": "ccc2abc3",
   "metadata": {},
   "outputs": [],
   "source": [
    "X_train = class_split(X_train)\n",
    "#X_train"
   ]
  },
  {
   "cell_type": "code",
   "execution_count": 44,
   "id": "0d0b4d3b",
   "metadata": {},
   "outputs": [],
   "source": [
    "def mu(data):\n",
    "    return sum(data)/float(len(data))"
   ]
  },
  {
   "cell_type": "code",
   "execution_count": 45,
   "id": "633f911f",
   "metadata": {},
   "outputs": [],
   "source": [
    "def stdev(data):\n",
    "    avg = mu(data)\n",
    "    variance = sum([(x-avg)**2 for x in data]) / float(len(data)-1)\n",
    "    return sqrt(variance)"
   ]
  },
  {
   "cell_type": "code",
   "execution_count": null,
   "id": "c3c4cbe0",
   "metadata": {},
   "outputs": [],
   "source": []
  },
  {
   "cell_type": "code",
   "execution_count": 46,
   "id": "81abe60e",
   "metadata": {},
   "outputs": [],
   "source": [
    "def dispersions(dataset):\n",
    "    stats = [(mu(column), stdev(column)) for column in zip(*dataset)]\n",
    "    del(stats[-1])\n",
    "    return stats"
   ]
  },
  {
   "cell_type": "code",
   "execution_count": 48,
   "id": "560e0410",
   "metadata": {},
   "outputs": [
    {
     "data": {
      "text/plain": [
       "[[(4.975555555555555, 0.33720479045688356),\n",
       "  (3.38, 0.37087121018684455),\n",
       "  (1.4555555555555555, 0.15891043154093204),\n",
       "  (0.23555555555555538, 0.10478453120474408)],\n",
       " [(5.927272727272728, 0.5159608946618881),\n",
       "  (2.7477272727272735, 0.31214832220092764),\n",
       "  (4.26590909090909, 0.45491792350349947),\n",
       "  (1.3159090909090905, 0.19993392143077976)],\n",
       " [(6.534782608695653, 0.623687026677946),\n",
       "  (2.9478260869565216, 0.30965151052596934),\n",
       "  (5.532608695652173, 0.5545986928806519),\n",
       "  (2.0130434782608697, 0.28016558251003704)]]"
      ]
     },
     "execution_count": 48,
     "metadata": {},
     "output_type": "execute_result"
    }
   ],
   "source": [
    "stats =[]\n",
    "for i in range(len(X_train)):\n",
    "    stats.append(dispersions(X_train[i]))\n",
    "stats"
   ]
  },
  {
   "cell_type": "markdown",
   "id": "d178b339",
   "metadata": {},
   "source": [
    "### Create Gaussian Distribution Function\n",
    "$$P(x)=\\frac{1}{\\sigma \\sqrt 2 \\pi } e^{\\frac{-(x-\\mu)^2}{2\\sigma^2}}$$"
   ]
  },
  {
   "cell_type": "code",
   "execution_count": 13,
   "id": "dad73614",
   "metadata": {},
   "outputs": [],
   "source": [
    "# Gaussian p.d.f\n",
    "def gauss_pdf(x, mean, stdev):\n",
    "    return (1 / (sqrt(2 * pi) * stdev))* exp(-((x-mean)**2 / (2 * stdev**2 )))"
   ]
  },
  {
   "cell_type": "code",
   "execution_count": 14,
   "id": "7c3fb507",
   "metadata": {},
   "outputs": [
    {
     "name": "stdout",
     "output_type": "stream",
     "text": [
      "0.3989422804014327\n"
     ]
    }
   ],
   "source": [
    "print(gauss_pdf(1.0,1.0,1.0))#test can delete"
   ]
  },
  {
   "cell_type": "markdown",
   "id": "3988d355",
   "metadata": {},
   "source": [
    "## Bayesian classifier"
   ]
  },
  {
   "cell_type": "markdown",
   "id": "e5da161b",
   "metadata": {},
   "source": [
    "### Pseudocode\n",
    "function bayes_classifier(testdata, training_stats):<br>\n",
    "    -for every x in testdata:<br>\n",
    "        -for every tuple in training_stats:<br>\n",
    "            -multiply every gauss_pdf for ever column<br>\n",
    "            -create posterior probabilty on that tuple<br>\n",
    "        -compare maximum a posterior (MAP) with target label<br>\n",
    "    -return array of actual and predicted labels<br>"
   ]
  },
  {
   "cell_type": "code",
   "execution_count": 95,
   "id": "2da36c69",
   "metadata": {},
   "outputs": [
    {
     "data": {
      "text/plain": [
       "array([[5.8, 4. , 1.2, 0.2, 0. ],\n",
       "       [5.1, 2.5, 3. , 1.1, 1. ],\n",
       "       [6.6, 3. , 4.4, 1.4, 1. ],\n",
       "       [5.4, 3.9, 1.3, 0.4, 0. ],\n",
       "       [7.9, 3.8, 6.4, 2. , 2. ],\n",
       "       [6.3, 3.3, 4.7, 1.6, 1. ],\n",
       "       [6.9, 3.1, 5.1, 2.3, 2. ],\n",
       "       [5.1, 3.8, 1.9, 0.4, 0. ],\n",
       "       [4.7, 3.2, 1.6, 0.2, 0. ],\n",
       "       [6.9, 3.2, 5.7, 2.3, 2. ],\n",
       "       [5.6, 2.7, 4.2, 1.3, 1. ],\n",
       "       [5.4, 3.9, 1.7, 0.4, 0. ],\n",
       "       [7.1, 3. , 5.9, 2.1, 2. ],\n",
       "       [6.4, 3.2, 4.5, 1.5, 1. ],\n",
       "       [6. , 2.9, 4.5, 1.5, 1. ]])"
      ]
     },
     "execution_count": 95,
     "metadata": {},
     "output_type": "execute_result"
    }
   ],
   "source": [
    "X_test = X_test.to_numpy()\n",
    "X_test"
   ]
  },
  {
   "cell_type": "code",
   "execution_count": 97,
   "id": "89181bc6",
   "metadata": {},
   "outputs": [
    {
     "data": {
      "text/plain": [
       "5.8"
      ]
     },
     "execution_count": 97,
     "metadata": {},
     "output_type": "execute_result"
    }
   ],
   "source": [
    "X_test[0][0]"
   ]
  },
  {
   "cell_type": "code",
   "execution_count": 119,
   "id": "75162c1c",
   "metadata": {},
   "outputs": [
    {
     "data": {
      "text/plain": [
       "5.8"
      ]
     },
     "execution_count": 119,
     "metadata": {},
     "output_type": "execute_result"
    }
   ],
   "source": [
    "X = X_test[0]\n",
    "X[0]\n"
   ]
  },
  {
   "cell_type": "code",
   "execution_count": 109,
   "id": "f70ea96b",
   "metadata": {},
   "outputs": [
    {
     "data": {
      "text/plain": [
       "(4.975555555555555, 0.33720479045688356)"
      ]
     },
     "execution_count": 109,
     "metadata": {},
     "output_type": "execute_result"
    }
   ],
   "source": [
    "stats[0][0]\n"
   ]
  },
  {
   "cell_type": "code",
   "execution_count": 177,
   "id": "4246000a",
   "metadata": {},
   "outputs": [
    {
     "data": {
      "text/plain": [
       "0.03922581952235828"
      ]
     },
     "execution_count": 177,
     "metadata": {},
     "output_type": "execute_result"
    }
   ],
   "source": [
    "cp=1\n",
    "for j in range(len(X)-1):\n",
    "    temp = gauss_pdf(X[j],stats[0][j][0],stats[0][j][1])\n",
    "    cp *= temp\n",
    "cp"
   ]
  },
  {
   "cell_type": "code",
   "execution_count": 172,
   "id": "972cec87",
   "metadata": {},
   "outputs": [
    {
     "name": "stdout",
     "output_type": "stream",
     "text": [
      "0\n"
     ]
    }
   ],
   "source": [
    "c=0\n",
    "for i in range(4):\n",
    "    \n",
    "print(c)\n",
    "    "
   ]
  },
  {
   "cell_type": "code",
   "execution_count": 178,
   "id": "4aa728ae",
   "metadata": {},
   "outputs": [],
   "source": [
    "def bayes_classifier(X, stats):\n",
    "    posterior_prob =[]\n",
    "    for i in range(len(stats)):\n",
    "        #print(f\"i:{i}\")\n",
    "        class_prob=1\n",
    "        for j in range(len(X)-1):\n",
    "            #print(f\"j:{j}\")\n",
    "            class_prob*= gauss_pdf(X[j], stats[i][j][0],stats[i][j][1])\n",
    "            #print(class_prob)\n",
    "        posterior_prob.append(class_prob)\n",
    "    return posterior_prob\n",
    "        \n",
    "    "
   ]
  },
  {
   "cell_type": "code",
   "execution_count": 182,
   "id": "122c9c90",
   "metadata": {},
   "outputs": [
    {
     "data": {
      "text/plain": [
       "[0.03922581952235828, 1.2655162595009397e-20, 5.911549453700815e-26]"
      ]
     },
     "execution_count": 182,
     "metadata": {},
     "output_type": "execute_result"
    }
   ],
   "source": [
    "pb = bayes_classifier(X_test[0], stats)\n",
    "pb"
   ]
  },
  {
   "cell_type": "code",
   "execution_count": 183,
   "id": "2bb8c2eb",
   "metadata": {},
   "outputs": [
    {
     "data": {
      "text/plain": [
       "0"
      ]
     },
     "execution_count": 183,
     "metadata": {},
     "output_type": "execute_result"
    }
   ],
   "source": [
    "# TODO create a maximum posterior \n",
    "pb.index(max(pb))"
   ]
  },
  {
   "cell_type": "code",
   "execution_count": null,
   "id": "b86950b0",
   "metadata": {},
   "outputs": [],
   "source": [
    "# TODO create a predict class"
   ]
  },
  {
   "cell_type": "code",
   "execution_count": null,
   "id": "32ebf606",
   "metadata": {},
   "outputs": [],
   "source": [
    "# TODO Evaluate results"
   ]
  }
 ],
 "metadata": {
  "kernelspec": {
   "display_name": "Python 3 (ipykernel)",
   "language": "python",
   "name": "python3"
  },
  "language_info": {
   "codemirror_mode": {
    "name": "ipython",
    "version": 3
   },
   "file_extension": ".py",
   "mimetype": "text/x-python",
   "name": "python",
   "nbconvert_exporter": "python",
   "pygments_lexer": "ipython3",
   "version": "3.9.12"
  }
 },
 "nbformat": 4,
 "nbformat_minor": 5
}
