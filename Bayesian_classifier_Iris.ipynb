{
 "cells": [
  {
   "cell_type": "markdown",
   "id": "2c305c77",
   "metadata": {},
   "source": [
    "# Bayesian_classifier_Iris\n",
    "\n",
    "A Bayes classifier is based on *Bayes theorem* that uses prior knowledge and some assumptions on the distribution to predict a posterior probability of an event or class in this case. Bayes Classififier is very simple and easier to calculate, which is why it is a very popular classifier in machine learning.\n",
    "\n",
    "Contents\n",
    "- Upload Library's and dataset\n",
    "- Encode label column\n",
    "- Split dataset into train/test sets\n",
    "- Split training set into seperate class's\n",
    "- Calculate Gaussian probability for each class\n",
    "- Create A bayesian classifier\n",
    "- test on unseen data\n",
    "- Evaluate results"
   ]
  },
  {
   "cell_type": "markdown",
   "id": "da8ae79e",
   "metadata": {},
   "source": [
    "### Library's"
   ]
  },
  {
   "cell_type": "code",
   "execution_count": 91,
   "id": "ba291f72",
   "metadata": {},
   "outputs": [],
   "source": [
    "import numpy as np\n",
    "import pandas as pd\n",
    "import matplotlib.pyplot as plt\n",
    "\n",
    "from math import sqrt\n",
    "from math import pi\n",
    "from math import exp\n",
    "\n",
    "import sklearn\n",
    "from sklearn.model_selection import train_test_split"
   ]
  },
  {
   "cell_type": "markdown",
   "id": "a38675f0",
   "metadata": {},
   "source": [
    "### Upload Iris dataset\n",
    "Upload Iris dataset from Kaggle.com. Drop Id column"
   ]
  },
  {
   "cell_type": "code",
   "execution_count": 92,
   "id": "6a8fa8da",
   "metadata": {},
   "outputs": [
    {
     "data": {
      "text/html": [
       "<div>\n",
       "<style scoped>\n",
       "    .dataframe tbody tr th:only-of-type {\n",
       "        vertical-align: middle;\n",
       "    }\n",
       "\n",
       "    .dataframe tbody tr th {\n",
       "        vertical-align: top;\n",
       "    }\n",
       "\n",
       "    .dataframe thead th {\n",
       "        text-align: right;\n",
       "    }\n",
       "</style>\n",
       "<table border=\"1\" class=\"dataframe\">\n",
       "  <thead>\n",
       "    <tr style=\"text-align: right;\">\n",
       "      <th></th>\n",
       "      <th>SepalLengthCm</th>\n",
       "      <th>SepalWidthCm</th>\n",
       "      <th>PetalLengthCm</th>\n",
       "      <th>PetalWidthCm</th>\n",
       "      <th>Species</th>\n",
       "    </tr>\n",
       "  </thead>\n",
       "  <tbody>\n",
       "    <tr>\n",
       "      <th>0</th>\n",
       "      <td>5.1</td>\n",
       "      <td>3.5</td>\n",
       "      <td>1.4</td>\n",
       "      <td>0.2</td>\n",
       "      <td>Iris-setosa</td>\n",
       "    </tr>\n",
       "    <tr>\n",
       "      <th>1</th>\n",
       "      <td>4.9</td>\n",
       "      <td>3.0</td>\n",
       "      <td>1.4</td>\n",
       "      <td>0.2</td>\n",
       "      <td>Iris-setosa</td>\n",
       "    </tr>\n",
       "    <tr>\n",
       "      <th>2</th>\n",
       "      <td>4.7</td>\n",
       "      <td>3.2</td>\n",
       "      <td>1.3</td>\n",
       "      <td>0.2</td>\n",
       "      <td>Iris-setosa</td>\n",
       "    </tr>\n",
       "    <tr>\n",
       "      <th>3</th>\n",
       "      <td>4.6</td>\n",
       "      <td>3.1</td>\n",
       "      <td>1.5</td>\n",
       "      <td>0.2</td>\n",
       "      <td>Iris-setosa</td>\n",
       "    </tr>\n",
       "    <tr>\n",
       "      <th>4</th>\n",
       "      <td>5.0</td>\n",
       "      <td>3.6</td>\n",
       "      <td>1.4</td>\n",
       "      <td>0.2</td>\n",
       "      <td>Iris-setosa</td>\n",
       "    </tr>\n",
       "  </tbody>\n",
       "</table>\n",
       "</div>"
      ],
      "text/plain": [
       "   SepalLengthCm  SepalWidthCm  PetalLengthCm  PetalWidthCm      Species\n",
       "0            5.1           3.5            1.4           0.2  Iris-setosa\n",
       "1            4.9           3.0            1.4           0.2  Iris-setosa\n",
       "2            4.7           3.2            1.3           0.2  Iris-setosa\n",
       "3            4.6           3.1            1.5           0.2  Iris-setosa\n",
       "4            5.0           3.6            1.4           0.2  Iris-setosa"
      ]
     },
     "execution_count": 92,
     "metadata": {},
     "output_type": "execute_result"
    }
   ],
   "source": [
    "# Load csv file \n",
    "all_df = pd.read_csv('./Iris.csv', index_col=False)\n",
    "\n",
    "# drop ID column\n",
    "all_df.drop('Id',axis=1,inplace=True)\n",
    "all_df.head()"
   ]
  },
  {
   "cell_type": "markdown",
   "id": "e0958304",
   "metadata": {},
   "source": [
    "### Encode label column"
   ]
  },
  {
   "cell_type": "code",
   "execution_count": 93,
   "id": "8177cd3e",
   "metadata": {},
   "outputs": [
    {
     "data": {
      "text/plain": [
       "Iris-setosa        50\n",
       "Iris-versicolor    50\n",
       "Iris-virginica     50\n",
       "Name: Species, dtype: int64"
      ]
     },
     "execution_count": 93,
     "metadata": {},
     "output_type": "execute_result"
    }
   ],
   "source": [
    "all_df['Species'].value_counts()"
   ]
  },
  {
   "cell_type": "code",
   "execution_count": 94,
   "id": "f2c5be9e",
   "metadata": {},
   "outputs": [
    {
     "data": {
      "text/html": [
       "<div>\n",
       "<style scoped>\n",
       "    .dataframe tbody tr th:only-of-type {\n",
       "        vertical-align: middle;\n",
       "    }\n",
       "\n",
       "    .dataframe tbody tr th {\n",
       "        vertical-align: top;\n",
       "    }\n",
       "\n",
       "    .dataframe thead th {\n",
       "        text-align: right;\n",
       "    }\n",
       "</style>\n",
       "<table border=\"1\" class=\"dataframe\">\n",
       "  <thead>\n",
       "    <tr style=\"text-align: right;\">\n",
       "      <th></th>\n",
       "      <th>SepalLengthCm</th>\n",
       "      <th>SepalWidthCm</th>\n",
       "      <th>PetalLengthCm</th>\n",
       "      <th>PetalWidthCm</th>\n",
       "      <th>Species</th>\n",
       "    </tr>\n",
       "  </thead>\n",
       "  <tbody>\n",
       "    <tr>\n",
       "      <th>0</th>\n",
       "      <td>5.1</td>\n",
       "      <td>3.5</td>\n",
       "      <td>1.4</td>\n",
       "      <td>0.2</td>\n",
       "      <td>0</td>\n",
       "    </tr>\n",
       "    <tr>\n",
       "      <th>1</th>\n",
       "      <td>4.9</td>\n",
       "      <td>3.0</td>\n",
       "      <td>1.4</td>\n",
       "      <td>0.2</td>\n",
       "      <td>0</td>\n",
       "    </tr>\n",
       "    <tr>\n",
       "      <th>2</th>\n",
       "      <td>4.7</td>\n",
       "      <td>3.2</td>\n",
       "      <td>1.3</td>\n",
       "      <td>0.2</td>\n",
       "      <td>0</td>\n",
       "    </tr>\n",
       "    <tr>\n",
       "      <th>3</th>\n",
       "      <td>4.6</td>\n",
       "      <td>3.1</td>\n",
       "      <td>1.5</td>\n",
       "      <td>0.2</td>\n",
       "      <td>0</td>\n",
       "    </tr>\n",
       "    <tr>\n",
       "      <th>4</th>\n",
       "      <td>5.0</td>\n",
       "      <td>3.6</td>\n",
       "      <td>1.4</td>\n",
       "      <td>0.2</td>\n",
       "      <td>0</td>\n",
       "    </tr>\n",
       "  </tbody>\n",
       "</table>\n",
       "</div>"
      ],
      "text/plain": [
       "   SepalLengthCm  SepalWidthCm  PetalLengthCm  PetalWidthCm  Species\n",
       "0            5.1           3.5            1.4           0.2        0\n",
       "1            4.9           3.0            1.4           0.2        0\n",
       "2            4.7           3.2            1.3           0.2        0\n",
       "3            4.6           3.1            1.5           0.2        0\n",
       "4            5.0           3.6            1.4           0.2        0"
      ]
     },
     "execution_count": 94,
     "metadata": {},
     "output_type": "execute_result"
    }
   ],
   "source": [
    "# Assign features to X\n",
    "X = all_df\n",
    "\n",
    "# transform Species into integers\n",
    "from sklearn.preprocessing import LabelEncoder\n",
    "le = LabelEncoder()\n",
    "X['Species']= le.fit_transform(X['Species'])\n",
    "\n",
    "X.head()"
   ]
  },
  {
   "cell_type": "markdown",
   "id": "83a98c8d",
   "metadata": {},
   "source": [
    "### Split dataset into training and testing set\n",
    "The dataset has a total of 150 entries, which is not alot. If we only test our classifier on say 10 entries it will look like we are getting 100% accuracy so the more you can test the better, however, we still need enough to get a good idea of the real distribution. so the dataset has been split 105:45"
   ]
  },
  {
   "cell_type": "code",
   "execution_count": 95,
   "id": "4828b7ae",
   "metadata": {},
   "outputs": [
    {
     "data": {
      "text/plain": [
       "2    37\n",
       "0    36\n",
       "1    32\n",
       "Name: Species, dtype: int64"
      ]
     },
     "execution_count": 95,
     "metadata": {},
     "output_type": "execute_result"
    }
   ],
   "source": [
    "X_train, X_test = train_test_split(X, test_size=0.30, random_state=1)\n",
    "X_train['Species'].value_counts()"
   ]
  },
  {
   "cell_type": "markdown",
   "id": "ba6844b1",
   "metadata": {},
   "source": [
    "### Split dataset by Class\n",
    "spli data set by class and return numpy array so statistics can be performed on the set."
   ]
  },
  {
   "cell_type": "code",
   "execution_count": 96,
   "id": "8f401efc",
   "metadata": {},
   "outputs": [],
   "source": [
    "def class_split(dataset):\n",
    "    classes = {}\n",
    "    by_class = dataset.groupby('Species')\n",
    "    #by_class.head()\n",
    "\n",
    "    for groups, data in by_class:\n",
    "        classes[groups] = data\n",
    "    return pd.DataFrame(classes[0]).to_numpy(), pd.DataFrame(classes[1]).to_numpy(), pd.DataFrame(classes[2]).to_numpy()"
   ]
  },
  {
   "cell_type": "code",
   "execution_count": 97,
   "id": "ccc2abc3",
   "metadata": {},
   "outputs": [],
   "source": [
    "X_train = class_split(X_train)\n",
    "#X_train"
   ]
  },
  {
   "cell_type": "markdown",
   "id": "3146d884",
   "metadata": {},
   "source": [
    "### Create Gaussian Distribution Function\n",
    "We assume the distribution take the form of a guassian distribution, which makes calculations alot easier. All we need is to calculate is the mean $\\mu$ and the standard deviation $\\sigma$ of each column.\n",
    "$$P(x)=\\frac{1}{\\sigma \\sqrt 2 \\pi } e^{\\frac{-(x-\\mu)^2}{2\\sigma^2}}$$"
   ]
  },
  {
   "cell_type": "code",
   "execution_count": null,
   "id": "d7ba32d9",
   "metadata": {},
   "outputs": [],
   "source": [
    "# Calculates the mean of each column\n",
    "def mu(col):\n",
    "    return sum(col)/float(len(col))"
   ]
  },
  {
   "cell_type": "code",
   "execution_count": 99,
   "id": "633f911f",
   "metadata": {},
   "outputs": [],
   "source": [
    "# Calculates the standard deviation of each column\n",
    "def stdev(col):\n",
    "    avg = mu(col)\n",
    "    variance = sum([(x-avg)**2 for x in col]) / float(len(col)-1)\n",
    "    return sqrt(variance)"
   ]
  },
  {
   "cell_type": "code",
   "execution_count": 100,
   "id": "81abe60e",
   "metadata": {},
   "outputs": [],
   "source": [
    "# aggregates and calculates mean and standard deviation from each column\n",
    "def dispersions(dataset):\n",
    "    stats = [(mu(column), stdev(column)) for column in zip(*dataset)]\n",
    "    del(stats[-1])\n",
    "    return stats"
   ]
  },
  {
   "cell_type": "code",
   "execution_count": null,
   "id": "c3c4cbe0",
   "metadata": {},
   "outputs": [],
   "source": [
    "# puts everything together\n",
    "stats =[]\n",
    "for i in range(len(X_train)):\n",
    "    stats.append(dispersions(X_train[i]))\n",
    "stats"
   ]
  },
  {
   "cell_type": "code",
   "execution_count": null,
   "id": "d4a4fb70",
   "metadata": {},
   "outputs": [],
   "source": [
    "#  creates gaussian p.d.f\n",
    "def gauss_pdf(x, mean, stdev):\n",
    "    return (1 / (sqrt(2 * pi) * stdev))* exp(-((x-mean)**2 / (2 * stdev**2 )))"
   ]
  },
  {
   "cell_type": "markdown",
   "id": "3988d355",
   "metadata": {},
   "source": [
    "## Bayesian classifier\n",
    "\n",
    "$$p(\\mathbf{w}|D)=\\frac{p(D|\\mathbf{w})p(\\mathbf{w})}{p(D)}$$\n",
    "We can ignore the denominator $p(D)$ or the evidence as this is only used to stablise the formaula\n",
    "\n",
    "$$ \\text{ posterior }\\propto \\text{ likelihood }\\times \\text{ prior }$$"
   ]
  },
  {
   "cell_type": "code",
   "execution_count": 104,
   "id": "2da36c69",
   "metadata": {},
   "outputs": [
    {
     "data": {
      "text/plain": [
       "array([[5.8, 4. , 1.2, 0.2, 0. ],\n",
       "       [5.1, 2.5, 3. , 1.1, 1. ],\n",
       "       [6.6, 3. , 4.4, 1.4, 1. ],\n",
       "       [5.4, 3.9, 1.3, 0.4, 0. ],\n",
       "       [7.9, 3.8, 6.4, 2. , 2. ],\n",
       "       [6.3, 3.3, 4.7, 1.6, 1. ],\n",
       "       [6.9, 3.1, 5.1, 2.3, 2. ],\n",
       "       [5.1, 3.8, 1.9, 0.4, 0. ],\n",
       "       [4.7, 3.2, 1.6, 0.2, 0. ],\n",
       "       [6.9, 3.2, 5.7, 2.3, 2. ],\n",
       "       [5.6, 2.7, 4.2, 1.3, 1. ],\n",
       "       [5.4, 3.9, 1.7, 0.4, 0. ],\n",
       "       [7.1, 3. , 5.9, 2.1, 2. ],\n",
       "       [6.4, 3.2, 4.5, 1.5, 1. ],\n",
       "       [6. , 2.9, 4.5, 1.5, 1. ],\n",
       "       [4.4, 3.2, 1.3, 0.2, 0. ],\n",
       "       [5.8, 2.6, 4. , 1.2, 1. ],\n",
       "       [5.6, 3. , 4.5, 1.5, 1. ],\n",
       "       [5.4, 3.4, 1.5, 0.4, 0. ],\n",
       "       [5. , 3.2, 1.2, 0.2, 0. ],\n",
       "       [5.5, 2.6, 4.4, 1.2, 1. ],\n",
       "       [5.4, 3. , 4.5, 1.5, 1. ],\n",
       "       [6.7, 3. , 5. , 1.7, 1. ],\n",
       "       [5. , 3.5, 1.3, 0.3, 0. ],\n",
       "       [7.2, 3.2, 6. , 1.8, 2. ],\n",
       "       [5.7, 2.8, 4.1, 1.3, 1. ],\n",
       "       [5.5, 4.2, 1.4, 0.2, 0. ],\n",
       "       [5.1, 3.8, 1.5, 0.3, 0. ],\n",
       "       [6.1, 2.8, 4.7, 1.2, 1. ],\n",
       "       [6.3, 2.5, 5. , 1.9, 2. ],\n",
       "       [6.1, 3. , 4.6, 1.4, 1. ],\n",
       "       [7.7, 3. , 6.1, 2.3, 2. ],\n",
       "       [5.6, 2.5, 3.9, 1.1, 1. ],\n",
       "       [6.4, 2.8, 5.6, 2.1, 2. ],\n",
       "       [5.8, 2.8, 5.1, 2.4, 2. ],\n",
       "       [5.3, 3.7, 1.5, 0.2, 0. ],\n",
       "       [5.5, 2.3, 4. , 1.3, 1. ],\n",
       "       [5.2, 3.4, 1.4, 0.2, 0. ],\n",
       "       [6.5, 2.8, 4.6, 1.5, 1. ],\n",
       "       [6.7, 2.5, 5.8, 1.8, 2. ],\n",
       "       [6.8, 3. , 5.5, 2.1, 2. ],\n",
       "       [5.1, 3.5, 1.4, 0.3, 0. ],\n",
       "       [6. , 2.2, 5. , 1.5, 2. ],\n",
       "       [6.3, 2.9, 5.6, 1.8, 2. ],\n",
       "       [6.6, 2.9, 4.6, 1.3, 1. ]])"
      ]
     },
     "execution_count": 104,
     "metadata": {},
     "output_type": "execute_result"
    }
   ],
   "source": [
    "# Turns df into a numpy array so calculations can be performed\n",
    "X_test = X_test.to_numpy()\n",
    "X_test"
   ]
  },
  {
   "cell_type": "code",
   "execution_count": 127,
   "id": "4aa728ae",
   "metadata": {},
   "outputs": [],
   "source": [
    "# Calculates the bayes classifier on each piece of data in the test set. \n",
    "def bayes_classifier(X, stats):\n",
    "    likelihood =[]\n",
    "    for i in range(len(stats)):\n",
    "        prior=1 # p(w) - Prior\n",
    "        for j in range(len(X)-1):\n",
    "            prior*= gauss_pdf(X[j], stats[i][j][0],stats[i][j][1])\n",
    "        likelihood.append(likelihood)\n",
    "    return likelihood\n",
    "        \n",
    "    "
   ]
  },
  {
   "cell_type": "code",
   "execution_count": 122,
   "id": "122c9c90",
   "metadata": {},
   "outputs": [],
   "source": [
    "# Uses Maximum a posterior (MAP) to select the returned index with biggest probability of tha data point being from that class.\n",
    "def predict(X_test, stats):\n",
    "    predict =[]\n",
    "    for x in range(len(X_test)):\n",
    "        pb = bayes_classifier(X_test[x], stats)\n",
    "        result = pb.index(max(pb))\n",
    "        predict.append(result)\n",
    "    return predict\n",
    "\n",
    "predicted = predict(X_test, stats)"
   ]
  },
  {
   "cell_type": "code",
   "execution_count": 123,
   "id": "b86950b0",
   "metadata": {},
   "outputs": [],
   "source": [
    "# labels\n",
    "actual = []\n",
    "for i in range(len(X_test)):\n",
    "    actual.append(int(X_test[i][4]))\n",
    "#actual"
   ]
  },
  {
   "cell_type": "code",
   "execution_count": 116,
   "id": "32ebf606",
   "metadata": {},
   "outputs": [
    {
     "name": "stdout",
     "output_type": "stream",
     "text": [
      "              precision    recall  f1-score   support\n",
      "\n",
      "           0       1.00      1.00      1.00        14\n",
      "           1       0.94      0.94      0.94        18\n",
      "           2       0.92      0.92      0.92        13\n",
      "\n",
      "    accuracy                           0.96        45\n",
      "   macro avg       0.96      0.96      0.96        45\n",
      "weighted avg       0.96      0.96      0.96        45\n",
      "\n"
     ]
    },
    {
     "data": {
      "image/png": "[encoded data removed]",
      "text/plain": [
       "<Figure size 216x216 with 1 Axes>"
      ]
     },
     "metadata": {
      "needs_background": "light"
     },
     "output_type": "display_data"
    }
   ],
   "source": [
    "# Evaluate results\n",
    "from sklearn.metrics import confusion_matrix, classification_report\n",
    "cm = confusion_matrix(actual, results)\n",
    "#print(matrix)\n",
    "\n",
    "# Plot confusion matrix\n",
    "fig, ax = plt.subplots(figsize=(3,3))\n",
    "ax.matshow(cm, cmap=plt.cm.Blues, alpha=0.3)\n",
    "for i in range(cm.shape[0]):\n",
    "    for j in range(cm.shape[1]):\n",
    "        ax.text(x=j, y=i, s=cm[i,j], va='center', ha='center')\n",
    "classes=[\"Iris-setosa \", \"Iris-versicolor\", \"Iris-virginica\"]\n",
    "tick_marks = np.arange(len(classes))\n",
    "plt.xticks(tick_marks, classes, rotation=45)\n",
    "plt.yticks(tick_marks, classes)\n",
    "plt.xlabel('Predicted Values',)\n",
    "plt.ylabel('actual Values',);\n",
    "print(classification_report(actual, results))"
   ]
  },
  {
   "cell_type": "markdown",
   "id": "73022a08",
   "metadata": {},
   "source": [
    "# Conclusion\n",
    "A very simple classifier with very good results on even a small dataset, this method could also be improved by using cross-validation. "
   ]
  },
  {
   "cell_type": "code",
   "execution_count": null,
   "id": "6b687e00",
   "metadata": {},
   "outputs": [],
   "source": []
  }
 ],
 "metadata": {
  "kernelspec": {
   "display_name": "Python 3 (ipykernel)",
   "language": "python",
   "name": "python3"
  },
  "language_info": {
   "codemirror_mode": {
    "name": "ipython",
    "version": 3
   },
   "file_extension": ".py",
   "mimetype": "text/x-python",
   "name": "python",
   "nbconvert_exporter": "python",
   "pygments_lexer": "ipython3",
   "version": "3.9.12"
  }
 },
 "nbformat": 4,
 "nbformat_minor": 5
}
