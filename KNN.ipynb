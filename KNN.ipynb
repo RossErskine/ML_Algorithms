{
 "cells": [
  {
   "cell_type": "markdown",
   "id": "fbec0251",
   "metadata": {},
   "source": [
    "# K- Nearest Neighbour for data imputation\n",
    "***\n",
    "Data Imputations are processes for dealing with missing data. With large data-sets it may be practical do disregard missing data, although with smaller data-sets this may not be possible. There are many imputation methods some very easy to use but may lack accuracy such as mean, median and most frequent values, and some slower more dificult methods to impliment which are more accurate such as multivariate imputation by chained equations or estimating using machine learning models.A half-way point between these two methods that is still simple and quick to use although still brings accurracy is the K-nearest neighbour(KNN) algorithm which uses a vector distance metric to cluster kth similar data points then average the missing data points from that cluster.\n",
    "\n",
    "The Titanic data-set has 891 entries with 177 missing from what could be a vital 'Age' feature. In this notebook the KNN algorithm using the Euclidean metric will be used to replace this missing data points, and compared using the SVM model.\n",
    "***\n",
    "\n",
    "#### Import Library's"
   ]
  },
  {
   "cell_type": "code",
   "execution_count": 101,
   "id": "5f842671",
   "metadata": {},
   "outputs": [],
   "source": [
    "import matplotlib.pyplot as plt\n",
    "import numpy as np\n",
    "import pandas as pd\n",
    "import seaborn as sns\n",
    "\n",
    "from sklearn.preprocessing import LabelEncoder\n",
    "from sklearn.svm import SVC\n",
    "from sklearn.model_selection import train_test_split, KFold, StratifiedKFold, cross_val_score\n",
    "from math import sqrt"
   ]
  },
  {
   "cell_type": "markdown",
   "id": "f69b096f",
   "metadata": {},
   "source": [
    "#### Load csv file & drop ID column"
   ]
  },
  {
   "cell_type": "code",
   "execution_count": 102,
   "id": "c4792452",
   "metadata": {},
   "outputs": [
    {
     "data": {
      "text/html": [
       "<div>\n",
       "<style scoped>\n",
       "    .dataframe tbody tr th:only-of-type {\n",
       "        vertical-align: middle;\n",
       "    }\n",
       "\n",
       "    .dataframe tbody tr th {\n",
       "        vertical-align: top;\n",
       "    }\n",
       "\n",
       "    .dataframe thead th {\n",
       "        text-align: right;\n",
       "    }\n",
       "</style>\n",
       "<table border=\"1\" class=\"dataframe\">\n",
       "  <thead>\n",
       "    <tr style=\"text-align: right;\">\n",
       "      <th></th>\n",
       "      <th>Survived</th>\n",
       "      <th>Pclass</th>\n",
       "      <th>Name</th>\n",
       "      <th>Sex</th>\n",
       "      <th>Age</th>\n",
       "      <th>SibSp</th>\n",
       "      <th>Parch</th>\n",
       "      <th>Ticket</th>\n",
       "      <th>Fare</th>\n",
       "      <th>Cabin</th>\n",
       "      <th>Embarked</th>\n",
       "    </tr>\n",
       "  </thead>\n",
       "  <tbody>\n",
       "    <tr>\n",
       "      <th>0</th>\n",
       "      <td>0</td>\n",
       "      <td>3</td>\n",
       "      <td>Braund, Mr. Owen Harris</td>\n",
       "      <td>male</td>\n",
       "      <td>22.0</td>\n",
       "      <td>1</td>\n",
       "      <td>0</td>\n",
       "      <td>A/5 21171</td>\n",
       "      <td>7.2500</td>\n",
       "      <td>NaN</td>\n",
       "      <td>S</td>\n",
       "    </tr>\n",
       "    <tr>\n",
       "      <th>1</th>\n",
       "      <td>1</td>\n",
       "      <td>1</td>\n",
       "      <td>Cumings, Mrs. John Bradley (Florence Briggs Th...</td>\n",
       "      <td>female</td>\n",
       "      <td>38.0</td>\n",
       "      <td>1</td>\n",
       "      <td>0</td>\n",
       "      <td>PC 17599</td>\n",
       "      <td>71.2833</td>\n",
       "      <td>C85</td>\n",
       "      <td>C</td>\n",
       "    </tr>\n",
       "    <tr>\n",
       "      <th>2</th>\n",
       "      <td>1</td>\n",
       "      <td>3</td>\n",
       "      <td>Heikkinen, Miss. Laina</td>\n",
       "      <td>female</td>\n",
       "      <td>26.0</td>\n",
       "      <td>0</td>\n",
       "      <td>0</td>\n",
       "      <td>STON/O2. 3101282</td>\n",
       "      <td>7.9250</td>\n",
       "      <td>NaN</td>\n",
       "      <td>S</td>\n",
       "    </tr>\n",
       "    <tr>\n",
       "      <th>3</th>\n",
       "      <td>1</td>\n",
       "      <td>1</td>\n",
       "      <td>Futrelle, Mrs. Jacques Heath (Lily May Peel)</td>\n",
       "      <td>female</td>\n",
       "      <td>35.0</td>\n",
       "      <td>1</td>\n",
       "      <td>0</td>\n",
       "      <td>113803</td>\n",
       "      <td>53.1000</td>\n",
       "      <td>C123</td>\n",
       "      <td>S</td>\n",
       "    </tr>\n",
       "    <tr>\n",
       "      <th>4</th>\n",
       "      <td>0</td>\n",
       "      <td>3</td>\n",
       "      <td>Allen, Mr. William Henry</td>\n",
       "      <td>male</td>\n",
       "      <td>35.0</td>\n",
       "      <td>0</td>\n",
       "      <td>0</td>\n",
       "      <td>373450</td>\n",
       "      <td>8.0500</td>\n",
       "      <td>NaN</td>\n",
       "      <td>S</td>\n",
       "    </tr>\n",
       "  </tbody>\n",
       "</table>\n",
       "</div>"
      ],
      "text/plain": [
       "   Survived  Pclass                                               Name  \\\n",
       "0         0       3                            Braund, Mr. Owen Harris   \n",
       "1         1       1  Cumings, Mrs. John Bradley (Florence Briggs Th...   \n",
       "2         1       3                             Heikkinen, Miss. Laina   \n",
       "3         1       1       Futrelle, Mrs. Jacques Heath (Lily May Peel)   \n",
       "4         0       3                           Allen, Mr. William Henry   \n",
       "\n",
       "      Sex   Age  SibSp  Parch            Ticket     Fare Cabin Embarked  \n",
       "0    male  22.0      1      0         A/5 21171   7.2500   NaN        S  \n",
       "1  female  38.0      1      0          PC 17599  71.2833   C85        C  \n",
       "2  female  26.0      0      0  STON/O2. 3101282   7.9250   NaN        S  \n",
       "3  female  35.0      1      0            113803  53.1000  C123        S  \n",
       "4    male  35.0      0      0            373450   8.0500   NaN        S  "
      ]
     },
     "execution_count": 102,
     "metadata": {},
     "output_type": "execute_result"
    }
   ],
   "source": [
    "all_df = pd.read_csv('./titanic_train.csv', index_col=False)\n",
    "# drop ID column\n",
    "all_df.drop('PassengerId',axis=1,inplace=True)\n",
    "all_df.head()"
   ]
  },
  {
   "cell_type": "code",
   "execution_count": 103,
   "id": "699b3efa",
   "metadata": {},
   "outputs": [
    {
     "name": "stdout",
     "output_type": "stream",
     "text": [
      "<class 'pandas.core.frame.DataFrame'>\n",
      "RangeIndex: 891 entries, 0 to 890\n",
      "Data columns (total 11 columns):\n",
      " #   Column    Non-Null Count  Dtype  \n",
      "---  ------    --------------  -----  \n",
      " 0   Survived  891 non-null    int64  \n",
      " 1   Pclass    891 non-null    int64  \n",
      " 2   Name      891 non-null    object \n",
      " 3   Sex       891 non-null    object \n",
      " 4   Age       714 non-null    float64\n",
      " 5   SibSp     891 non-null    int64  \n",
      " 6   Parch     891 non-null    int64  \n",
      " 7   Ticket    891 non-null    object \n",
      " 8   Fare      891 non-null    float64\n",
      " 9   Cabin     204 non-null    object \n",
      " 10  Embarked  889 non-null    object \n",
      "dtypes: float64(2), int64(4), object(5)\n",
      "memory usage: 76.7+ KB\n"
     ]
    }
   ],
   "source": [
    "all_df.info()"
   ]
  },
  {
   "cell_type": "markdown",
   "id": "1d422db0",
   "metadata": {},
   "source": [
    "#### Basic statistics for each column"
   ]
  },
  {
   "cell_type": "code",
   "execution_count": 104,
   "id": "984b8ec1",
   "metadata": {},
   "outputs": [
    {
     "data": {
      "text/plain": [
       "count    714.000000\n",
       "mean      29.699118\n",
       "std       14.526497\n",
       "min        0.420000\n",
       "25%       20.125000\n",
       "50%       28.000000\n",
       "75%       38.000000\n",
       "max       80.000000\n",
       "Name: Age, dtype: float64"
      ]
     },
     "execution_count": 104,
     "metadata": {},
     "output_type": "execute_result"
    }
   ],
   "source": [
    "all_df['Age'].describe()"
   ]
  },
  {
   "cell_type": "markdown",
   "id": "d4267029",
   "metadata": {},
   "source": [
    "#### Check distribution of Age data"
   ]
  },
  {
   "cell_type": "code",
   "execution_count": 105,
   "id": "1f4383ac",
   "metadata": {},
   "outputs": [
    {
     "data": {
      "text/plain": [
       "24.00    30\n",
       "22.00    27\n",
       "18.00    26\n",
       "19.00    25\n",
       "28.00    25\n",
       "         ..\n",
       "36.50     1\n",
       "55.50     1\n",
       "0.92      1\n",
       "23.50     1\n",
       "74.00     1\n",
       "Name: Age, Length: 88, dtype: int64"
      ]
     },
     "execution_count": 105,
     "metadata": {},
     "output_type": "execute_result"
    }
   ],
   "source": [
    "all_df['Age'].value_counts()"
   ]
  },
  {
   "cell_type": "markdown",
   "id": "ab1ab365",
   "metadata": {},
   "source": [
    "#### Assign features to X and y\n",
    "Assign features to X, drop 'ticket' and 'cabin' as they are irelevent. dropping missing data will reduce dataset to 712, assign labels to y."
   ]
  },
  {
   "cell_type": "code",
   "execution_count": 106,
   "id": "f0db7cd3",
   "metadata": {},
   "outputs": [
    {
     "name": "stdout",
     "output_type": "stream",
     "text": [
      "<class 'pandas.core.frame.DataFrame'>\n",
      "Int64Index: 712 entries, 0 to 890\n",
      "Data columns (total 7 columns):\n",
      " #   Column    Non-Null Count  Dtype  \n",
      "---  ------    --------------  -----  \n",
      " 0   Pclass    712 non-null    int64  \n",
      " 1   Sex       712 non-null    object \n",
      " 2   Age       712 non-null    float64\n",
      " 3   SibSp     712 non-null    int64  \n",
      " 4   Parch     712 non-null    int64  \n",
      " 5   Fare      712 non-null    float64\n",
      " 6   Embarked  712 non-null    object \n",
      "dtypes: float64(2), int64(3), object(2)\n",
      "memory usage: 44.5+ KB\n"
     ]
    }
   ],
   "source": [
    "orig_X = all_df.drop('Name', axis=1)\n",
    "orig_X = orig_X.drop('Ticket', axis=1)\n",
    "orig_X = orig_X.drop('Cabin', axis=1)\n",
    "OX = orig_X.dropna()# drop missing data will reduce dataset to 712\n",
    "\n",
    "# assign numeriscal label to y\n",
    "Oy = OX['Survived']\n",
    "OX = OX.drop('Survived', axis=1)\n",
    "\n",
    "OX.info()"
   ]
  },
  {
   "cell_type": "markdown",
   "id": "a7713166",
   "metadata": {},
   "source": [
    "#### Label encoder\n",
    "First , transform the class 'Sex' from thier original string representation (M and F ) into integers\n",
    "transform Embarked into integers"
   ]
  },
  {
   "cell_type": "code",
   "execution_count": 107,
   "id": "ad6ca3aa",
   "metadata": {},
   "outputs": [
    {
     "data": {
      "text/html": [
       "<div>\n",
       "<style scoped>\n",
       "    .dataframe tbody tr th:only-of-type {\n",
       "        vertical-align: middle;\n",
       "    }\n",
       "\n",
       "    .dataframe tbody tr th {\n",
       "        vertical-align: top;\n",
       "    }\n",
       "\n",
       "    .dataframe thead th {\n",
       "        text-align: right;\n",
       "    }\n",
       "</style>\n",
       "<table border=\"1\" class=\"dataframe\">\n",
       "  <thead>\n",
       "    <tr style=\"text-align: right;\">\n",
       "      <th></th>\n",
       "      <th>Pclass</th>\n",
       "      <th>Sex</th>\n",
       "      <th>Age</th>\n",
       "      <th>SibSp</th>\n",
       "      <th>Parch</th>\n",
       "      <th>Fare</th>\n",
       "      <th>Embarked</th>\n",
       "    </tr>\n",
       "  </thead>\n",
       "  <tbody>\n",
       "    <tr>\n",
       "      <th>0</th>\n",
       "      <td>3</td>\n",
       "      <td>1</td>\n",
       "      <td>22.0</td>\n",
       "      <td>1</td>\n",
       "      <td>0</td>\n",
       "      <td>7.2500</td>\n",
       "      <td>2</td>\n",
       "    </tr>\n",
       "    <tr>\n",
       "      <th>1</th>\n",
       "      <td>1</td>\n",
       "      <td>0</td>\n",
       "      <td>38.0</td>\n",
       "      <td>1</td>\n",
       "      <td>0</td>\n",
       "      <td>71.2833</td>\n",
       "      <td>0</td>\n",
       "    </tr>\n",
       "    <tr>\n",
       "      <th>2</th>\n",
       "      <td>3</td>\n",
       "      <td>0</td>\n",
       "      <td>26.0</td>\n",
       "      <td>0</td>\n",
       "      <td>0</td>\n",
       "      <td>7.9250</td>\n",
       "      <td>2</td>\n",
       "    </tr>\n",
       "    <tr>\n",
       "      <th>3</th>\n",
       "      <td>1</td>\n",
       "      <td>0</td>\n",
       "      <td>35.0</td>\n",
       "      <td>1</td>\n",
       "      <td>0</td>\n",
       "      <td>53.1000</td>\n",
       "      <td>2</td>\n",
       "    </tr>\n",
       "    <tr>\n",
       "      <th>4</th>\n",
       "      <td>3</td>\n",
       "      <td>1</td>\n",
       "      <td>35.0</td>\n",
       "      <td>0</td>\n",
       "      <td>0</td>\n",
       "      <td>8.0500</td>\n",
       "      <td>2</td>\n",
       "    </tr>\n",
       "  </tbody>\n",
       "</table>\n",
       "</div>"
      ],
      "text/plain": [
       "   Pclass  Sex   Age  SibSp  Parch     Fare  Embarked\n",
       "0       3    1  22.0      1      0   7.2500         2\n",
       "1       1    0  38.0      1      0  71.2833         0\n",
       "2       3    0  26.0      0      0   7.9250         2\n",
       "3       1    0  35.0      1      0  53.1000         2\n",
       "4       3    1  35.0      0      0   8.0500         2"
      ]
     },
     "execution_count": 107,
     "metadata": {},
     "output_type": "execute_result"
    }
   ],
   "source": [
    "le = LabelEncoder()\n",
    "OX['Sex']= le.fit_transform(DX['Sex'])\n",
    "OX['Embarked']= le.fit_transform(DX['Embarked'])\n",
    "\n",
    "OX.head()"
   ]
  },
  {
   "cell_type": "markdown",
   "id": "bcf480c8",
   "metadata": {},
   "source": [
    "#### Normalise features\n",
    "Normalise the features to use  StandardScaler that scales the values using zero-mean normalisation. Why do we normalise? normalising reduces the impact of the distance metric by scaling everything to a smaller feature space."
   ]
  },
  {
   "cell_type": "code",
   "execution_count": 108,
   "id": "9fcd7e57",
   "metadata": {},
   "outputs": [
    {
     "data": {
      "text/plain": [
       "<AxesSubplot:>"
      ]
     },
     "execution_count": 108,
     "metadata": {},
     "output_type": "execute_result"
    },
    {
     "data": {
      "image/png": "[encoded data removed]",
      "text/plain": [
       "<Figure size 1440x576 with 1 Axes>"
      ]
     },
     "metadata": {
      "needs_background": "light"
     },
     "output_type": "display_data"
    }
   ],
   "source": [
    "from sklearn.preprocessing import StandardScaler\n",
    "scaler = StandardScaler()\n",
    "OX=pd.DataFrame(scaler.fit_transform(OX), columns = OX.columns)\n",
    "fig, ax=plt.subplots(1,figsize=(20,8))\n",
    "sns.boxplot(data=OX, ax=ax)"
   ]
  },
  {
   "cell_type": "code",
   "execution_count": 109,
   "id": "6c9cbff9",
   "metadata": {},
   "outputs": [
    {
     "data": {
      "text/plain": [
       "SVC(gamma='auto', probability=True)"
      ]
     },
     "execution_count": 109,
     "metadata": {},
     "output_type": "execute_result"
    }
   ],
   "source": [
    "model = SVC(C=1.0, kernel='rbf', degree=3, gamma='auto', probability=True)\n",
    "model.fit(OX, Oy)"
   ]
  },
  {
   "cell_type": "markdown",
   "id": "5a2f4ea8",
   "metadata": {},
   "source": [
    " Now lets try k-fold cross validation, Get average of 20-fold cross-validation score using on SVM classifier."
   ]
  },
  {
   "cell_type": "code",
   "execution_count": 110,
   "id": "556db4b6",
   "metadata": {},
   "outputs": [
    {
     "name": "stdout",
     "output_type": "stream",
     "text": [
      "The 20-fold cross-validation accuracy score for this classifier is 0.819048\n"
     ]
    }
   ],
   "source": [
    "n_folds = 20\n",
    "#model = SVC(C=1.0, kernel='rbf', degree=3, gamma='auto')\n",
    "model_error = np.average(cross_val_score(model, OX, Oy, cv=n_folds))\n",
    "print('The {}-fold cross-validation accuracy score for this classifier is {:2f}'.format(n_folds,model_error))"
   ]
  },
  {
   "cell_type": "code",
   "execution_count": 111,
   "id": "9085ef32",
   "metadata": {},
   "outputs": [
    {
     "data": {
      "text/html": [
       "<div>\n",
       "<style scoped>\n",
       "    .dataframe tbody tr th:only-of-type {\n",
       "        vertical-align: middle;\n",
       "    }\n",
       "\n",
       "    .dataframe tbody tr th {\n",
       "        vertical-align: top;\n",
       "    }\n",
       "\n",
       "    .dataframe thead th {\n",
       "        text-align: right;\n",
       "    }\n",
       "</style>\n",
       "<table border=\"1\" class=\"dataframe\">\n",
       "  <thead>\n",
       "    <tr style=\"text-align: right;\">\n",
       "      <th></th>\n",
       "      <th>Pclass</th>\n",
       "      <th>Sex</th>\n",
       "      <th>Age</th>\n",
       "      <th>SibSp</th>\n",
       "      <th>Parch</th>\n",
       "      <th>Fare</th>\n",
       "      <th>Embarked</th>\n",
       "    </tr>\n",
       "  </thead>\n",
       "  <tbody>\n",
       "    <tr>\n",
       "      <th>0</th>\n",
       "      <td>0.908600</td>\n",
       "      <td>0.756138</td>\n",
       "      <td>-0.527669</td>\n",
       "      <td>0.522511</td>\n",
       "      <td>-0.506787</td>\n",
       "      <td>-0.516380</td>\n",
       "      <td>0.519588</td>\n",
       "    </tr>\n",
       "    <tr>\n",
       "      <th>1</th>\n",
       "      <td>-1.482983</td>\n",
       "      <td>-1.322511</td>\n",
       "      <td>0.577094</td>\n",
       "      <td>0.522511</td>\n",
       "      <td>-0.506787</td>\n",
       "      <td>0.694046</td>\n",
       "      <td>-2.049487</td>\n",
       "    </tr>\n",
       "    <tr>\n",
       "      <th>2</th>\n",
       "      <td>0.908600</td>\n",
       "      <td>-1.322511</td>\n",
       "      <td>-0.251478</td>\n",
       "      <td>-0.552714</td>\n",
       "      <td>-0.506787</td>\n",
       "      <td>-0.503620</td>\n",
       "      <td>0.519588</td>\n",
       "    </tr>\n",
       "    <tr>\n",
       "      <th>3</th>\n",
       "      <td>-1.482983</td>\n",
       "      <td>-1.322511</td>\n",
       "      <td>0.369951</td>\n",
       "      <td>0.522511</td>\n",
       "      <td>-0.506787</td>\n",
       "      <td>0.350326</td>\n",
       "      <td>0.519588</td>\n",
       "    </tr>\n",
       "    <tr>\n",
       "      <th>4</th>\n",
       "      <td>0.908600</td>\n",
       "      <td>0.756138</td>\n",
       "      <td>0.369951</td>\n",
       "      <td>-0.552714</td>\n",
       "      <td>-0.506787</td>\n",
       "      <td>-0.501257</td>\n",
       "      <td>0.519588</td>\n",
       "    </tr>\n",
       "  </tbody>\n",
       "</table>\n",
       "</div>"
      ],
      "text/plain": [
       "     Pclass       Sex       Age     SibSp     Parch      Fare  Embarked\n",
       "0  0.908600  0.756138 -0.527669  0.522511 -0.506787 -0.516380  0.519588\n",
       "1 -1.482983 -1.322511  0.577094  0.522511 -0.506787  0.694046 -2.049487\n",
       "2  0.908600 -1.322511 -0.251478 -0.552714 -0.506787 -0.503620  0.519588\n",
       "3 -1.482983 -1.322511  0.369951  0.522511 -0.506787  0.350326  0.519588\n",
       "4  0.908600  0.756138  0.369951 -0.552714 -0.506787 -0.501257  0.519588"
      ]
     },
     "execution_count": 111,
     "metadata": {},
     "output_type": "execute_result"
    }
   ],
   "source": [
    "DX.head()"
   ]
  },
  {
   "cell_type": "markdown",
   "id": "d02f3f00",
   "metadata": {},
   "source": [
    "# Data Imputation\n",
    "***\n",
    "Repeat the model after data imputation, using KNN algorithm."
   ]
  },
  {
   "cell_type": "code",
   "execution_count": 112,
   "id": "a46431ce",
   "metadata": {},
   "outputs": [
    {
     "name": "stdout",
     "output_type": "stream",
     "text": [
      "<class 'pandas.core.frame.DataFrame'>\n",
      "RangeIndex: 891 entries, 0 to 890\n",
      "Data columns (total 7 columns):\n",
      " #   Column    Non-Null Count  Dtype  \n",
      "---  ------    --------------  -----  \n",
      " 0   Pclass    891 non-null    int64  \n",
      " 1   Sex       891 non-null    object \n",
      " 2   Age       714 non-null    float64\n",
      " 3   SibSp     891 non-null    int64  \n",
      " 4   Parch     891 non-null    int64  \n",
      " 5   Fare      891 non-null    float64\n",
      " 6   Embarked  889 non-null    object \n",
      "dtypes: float64(2), int64(3), object(2)\n",
      "memory usage: 48.9+ KB\n"
     ]
    }
   ],
   "source": [
    "Imp_X = orig_X\n",
    "# assign numerical label to y\n",
    "Imp_y = Imp_X['Survived']\n",
    "Imp_X = Imp_X.drop('Survived', axis=1)\n",
    "\n",
    "Imp_X.info()"
   ]
  },
  {
   "cell_type": "code",
   "execution_count": 113,
   "id": "353ff910",
   "metadata": {},
   "outputs": [
    {
     "data": {
      "text/html": [
       "<div>\n",
       "<style scoped>\n",
       "    .dataframe tbody tr th:only-of-type {\n",
       "        vertical-align: middle;\n",
       "    }\n",
       "\n",
       "    .dataframe tbody tr th {\n",
       "        vertical-align: top;\n",
       "    }\n",
       "\n",
       "    .dataframe thead th {\n",
       "        text-align: right;\n",
       "    }\n",
       "</style>\n",
       "<table border=\"1\" class=\"dataframe\">\n",
       "  <thead>\n",
       "    <tr style=\"text-align: right;\">\n",
       "      <th></th>\n",
       "      <th>Pclass</th>\n",
       "      <th>Sex</th>\n",
       "      <th>Age</th>\n",
       "      <th>SibSp</th>\n",
       "      <th>Parch</th>\n",
       "      <th>Fare</th>\n",
       "      <th>Embarked</th>\n",
       "    </tr>\n",
       "  </thead>\n",
       "  <tbody>\n",
       "    <tr>\n",
       "      <th>0</th>\n",
       "      <td>3</td>\n",
       "      <td>1</td>\n",
       "      <td>22.0</td>\n",
       "      <td>1</td>\n",
       "      <td>0</td>\n",
       "      <td>7.2500</td>\n",
       "      <td>2</td>\n",
       "    </tr>\n",
       "    <tr>\n",
       "      <th>1</th>\n",
       "      <td>1</td>\n",
       "      <td>0</td>\n",
       "      <td>38.0</td>\n",
       "      <td>1</td>\n",
       "      <td>0</td>\n",
       "      <td>71.2833</td>\n",
       "      <td>0</td>\n",
       "    </tr>\n",
       "    <tr>\n",
       "      <th>2</th>\n",
       "      <td>3</td>\n",
       "      <td>0</td>\n",
       "      <td>26.0</td>\n",
       "      <td>0</td>\n",
       "      <td>0</td>\n",
       "      <td>7.9250</td>\n",
       "      <td>2</td>\n",
       "    </tr>\n",
       "    <tr>\n",
       "      <th>3</th>\n",
       "      <td>1</td>\n",
       "      <td>0</td>\n",
       "      <td>35.0</td>\n",
       "      <td>1</td>\n",
       "      <td>0</td>\n",
       "      <td>53.1000</td>\n",
       "      <td>2</td>\n",
       "    </tr>\n",
       "    <tr>\n",
       "      <th>4</th>\n",
       "      <td>3</td>\n",
       "      <td>1</td>\n",
       "      <td>35.0</td>\n",
       "      <td>0</td>\n",
       "      <td>0</td>\n",
       "      <td>8.0500</td>\n",
       "      <td>2</td>\n",
       "    </tr>\n",
       "  </tbody>\n",
       "</table>\n",
       "</div>"
      ],
      "text/plain": [
       "   Pclass  Sex   Age  SibSp  Parch     Fare  Embarked\n",
       "0       3    1  22.0      1      0   7.2500         2\n",
       "1       1    0  38.0      1      0  71.2833         0\n",
       "2       3    0  26.0      0      0   7.9250         2\n",
       "3       1    0  35.0      1      0  53.1000         2\n",
       "4       3    1  35.0      0      0   8.0500         2"
      ]
     },
     "execution_count": 113,
     "metadata": {},
     "output_type": "execute_result"
    }
   ],
   "source": [
    "le = LabelEncoder()\n",
    "Imp_X['Sex']= le.fit_transform(Imp_X['Sex'])\n",
    "Imp_X['Embarked']= le.fit_transform(Imp_X['Embarked'])\n",
    "\n",
    "Imp_X.head()"
   ]
  },
  {
   "cell_type": "code",
   "execution_count": 114,
   "id": "91db3146",
   "metadata": {},
   "outputs": [
    {
     "data": {
      "text/plain": [
       "count    714.000000\n",
       "mean      29.699118\n",
       "std       14.526497\n",
       "min        0.420000\n",
       "25%       20.125000\n",
       "50%       28.000000\n",
       "75%       38.000000\n",
       "max       80.000000\n",
       "Name: Age, dtype: float64"
      ]
     },
     "execution_count": 114,
     "metadata": {},
     "output_type": "execute_result"
    }
   ],
   "source": [
    "Imp_X['Age'].describe()"
   ]
  },
  {
   "cell_type": "code",
   "execution_count": 115,
   "id": "a8186db8",
   "metadata": {},
   "outputs": [
    {
     "data": {
      "text/plain": [
       "<AxesSubplot:>"
      ]
     },
     "execution_count": 115,
     "metadata": {},
     "output_type": "execute_result"
    },
    {
     "data": {
      "image/png": "[encoded data removed]",
      "text/plain": [
       "<Figure size 1440x576 with 1 Axes>"
      ]
     },
     "metadata": {
      "needs_background": "light"
     },
     "output_type": "display_data"
    }
   ],
   "source": [
    "from sklearn.preprocessing import MinMaxScaler, StandardScaler\n",
    "scaler = StandardScaler()\n",
    "IX=pd.DataFrame(scaler.fit_transform(Imp_X), columns = Imp_X.columns)\n",
    "fig, ax=plt.subplots(1,figsize=(20,8))\n",
    "sns.boxplot(data=IX, ax=ax)"
   ]
  },
  {
   "cell_type": "markdown",
   "id": "55f4af0b",
   "metadata": {},
   "source": [
    "## KNN for data imputation\n",
    "***\n",
    "Calculate the Euclidean distance between two vectors"
   ]
  },
  {
   "cell_type": "code",
   "execution_count": 116,
   "id": "c0eab823",
   "metadata": {},
   "outputs": [],
   "source": [
    "def euclidean_distance(row1, row2):\n",
    "    distance = 0.0\n",
    "    for i in range(len(row1)-1):\n",
    "        distance += (row1[i] - row2[i])**2\n",
    "    return sqrt(distance)"
   ]
  },
  {
   "cell_type": "markdown",
   "id": "dfd606a0",
   "metadata": {},
   "source": [
    "Locate the most similar neighbors"
   ]
  },
  {
   "cell_type": "code",
   "execution_count": 117,
   "id": "b45e9d37",
   "metadata": {},
   "outputs": [],
   "source": [
    "def get_neighbours(data, row, K):\n",
    "    distances = list()\n",
    "    for data_row in data:\n",
    "        dist = euclidean_distance(row, data_row)\n",
    "        distances.append((data_row, dist))\n",
    "    distances.sort(key=lambda tup: tup[1])\n",
    "    neighbours = list()\n",
    "    for i in range(K):\n",
    "        neighbours.append(distances[i][0])\n",
    "    return neighbours"
   ]
  },
  {
   "cell_type": "markdown",
   "id": "811d9dbf",
   "metadata": {},
   "source": [
    "Calculate average of missing features "
   ]
  },
  {
   "cell_type": "code",
   "execution_count": 118,
   "id": "96078caf",
   "metadata": {},
   "outputs": [],
   "source": [
    "def get_avg(neighbours,col):\n",
    "    sum = 0\n",
    "    for i in range(len(neighbours)):\n",
    "        sum += neighbours[i][col]\n",
    "    return sum / len(neighbours)"
   ]
  },
  {
   "cell_type": "markdown",
   "id": "5b02c08c",
   "metadata": {},
   "source": [
    "Transform dataframe into numPy array for calculations"
   ]
  },
  {
   "cell_type": "code",
   "execution_count": 119,
   "id": "71bf8716",
   "metadata": {},
   "outputs": [],
   "source": [
    "InX = IX.to_numpy()"
   ]
  },
  {
   "cell_type": "markdown",
   "id": "6a0863b3",
   "metadata": {},
   "source": [
    "Create a for loop to replace the missing data."
   ]
  },
  {
   "cell_type": "code",
   "execution_count": 120,
   "id": "68f7493a",
   "metadata": {},
   "outputs": [],
   "source": [
    "for i in range(len(InX)):\n",
    "    k = 5\n",
    "    neighbours=list()\n",
    "    if np.isnan(InX[i][2]) == True:\n",
    "        avg=0\n",
    "        neighbours = get_neighbours(InX, InX[i], k)\n",
    "        avg = get_avg(neighbours, 2)\n",
    "        InX[i][2] = avg\n",
    "    "
   ]
  },
  {
   "cell_type": "markdown",
   "id": "062a54bc",
   "metadata": {},
   "source": [
    "Transform back to dataframe for training and evaluation"
   ]
  },
  {
   "cell_type": "code",
   "execution_count": 121,
   "id": "d4843e53",
   "metadata": {},
   "outputs": [
    {
     "name": "stdout",
     "output_type": "stream",
     "text": [
      "<class 'pandas.core.frame.DataFrame'>\n",
      "RangeIndex: 891 entries, 0 to 890\n",
      "Data columns (total 7 columns):\n",
      " #   Column    Non-Null Count  Dtype  \n",
      "---  ------    --------------  -----  \n",
      " 0   Pclass    891 non-null    float64\n",
      " 1   Sex       891 non-null    float64\n",
      " 2   Age       891 non-null    float64\n",
      " 3   SibSp     891 non-null    float64\n",
      " 4   Parch     891 non-null    float64\n",
      " 5   Fare      891 non-null    float64\n",
      " 6   Embarked  891 non-null    float64\n",
      "dtypes: float64(7)\n",
      "memory usage: 48.9 KB\n"
     ]
    }
   ],
   "source": [
    "IdX = pd.DataFrame(InX, columns= IX.columns)\n",
    "IdX.info()"
   ]
  },
  {
   "cell_type": "markdown",
   "id": "160fb34e",
   "metadata": {},
   "source": [
    "Check to see if the age feature has change much."
   ]
  },
  {
   "cell_type": "code",
   "execution_count": 122,
   "id": "2a172424",
   "metadata": {},
   "outputs": [
    {
     "data": {
      "text/plain": [
       "count    891.000000\n",
       "mean       0.020539\n",
       "std        0.896633\n",
       "min       -2.016979\n",
       "25%       -0.530377\n",
       "50%        0.103393\n",
       "75%        0.365167\n",
       "max        3.465126\n",
       "Name: Age, dtype: float64"
      ]
     },
     "execution_count": 122,
     "metadata": {},
     "output_type": "execute_result"
    }
   ],
   "source": [
    "IdX['Age'].describe()"
   ]
  },
  {
   "cell_type": "markdown",
   "id": "ce753015",
   "metadata": {},
   "source": [
    "#### Create second model"
   ]
  },
  {
   "cell_type": "code",
   "execution_count": 125,
   "id": "930ab185",
   "metadata": {},
   "outputs": [
    {
     "data": {
      "text/plain": [
       "SVC(gamma='auto', probability=True)"
      ]
     },
     "execution_count": 125,
     "metadata": {},
     "output_type": "execute_result"
    }
   ],
   "source": [
    "model.fit(IdX, Iy)"
   ]
  },
  {
   "cell_type": "markdown",
   "id": "4ba5a566",
   "metadata": {},
   "source": [
    "Now lets try k-fold cross validation\n",
    "Get average of 20-fold cross-validation score using on SVM classifier."
   ]
  },
  {
   "cell_type": "code",
   "execution_count": 124,
   "id": "869b536e",
   "metadata": {},
   "outputs": [
    {
     "name": "stdout",
     "output_type": "stream",
     "text": [
      "The 20-fold cross-validation accuracy score for this classifier is 0.822652\n"
     ]
    }
   ],
   "source": [
    "n_folds = 20\n",
    "model_error = np.average(cross_val_score(model, IdX, Iy, cv=n_folds))\n",
    "print('The {}-fold cross-validation accuracy score for this classifier is {:2f}'.format(n_folds,model_error))"
   ]
  },
  {
   "cell_type": "markdown",
   "id": "d7f931e9",
   "metadata": {},
   "source": [
    "# Conlusion"
   ]
  },
  {
   "cell_type": "markdown",
   "id": "6a3e9341",
   "metadata": {},
   "source": [
    "Although that the increase in generalisation error loss was not massive, on a bigger data set this could be a bigger difference. however the results show that KNN is very easy to implement and should improve results if needed."
   ]
  },
  {
   "cell_type": "code",
   "execution_count": null,
   "id": "677b13da",
   "metadata": {},
   "outputs": [],
   "source": []
  }
 ],
 "metadata": {
  "kernelspec": {
   "display_name": "Python 3 (ipykernel)",
   "language": "python",
   "name": "python3"
  },
  "language_info": {
   "codemirror_mode": {
    "name": "ipython",
    "version": 3
   },
   "file_extension": ".py",
   "mimetype": "text/x-python",
   "name": "python",
   "nbconvert_exporter": "python",
   "pygments_lexer": "ipython3",
   "version": "3.9.12"
  }
 },
 "nbformat": 4,
 "nbformat_minor": 5
}
