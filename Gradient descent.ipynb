{
 "cells": [
  {
   "cell_type": "markdown",
   "id": "ef400684",
   "metadata": {},
   "source": [
    "# Gradient descent\n",
    "\n",
    "Source: https://towardsdatascience.com/gradient-descent-algorithm-a-deep-dive-cf04e8115f21\n",
    "\n",
    "just some code to play with to help understand algorithm\n"
   ]
  },
  {
   "cell_type": "code",
   "execution_count": 1,
   "id": "7cb4d969",
   "metadata": {},
   "outputs": [],
   "source": [
    "import numpy as np\n",
    "\n",
    "def gradient_descent(start, gradient, learn_rate, max_iter, tol=0.01):\n",
    "  steps = [start] # history tracking\n",
    "  x = start\n",
    "\n",
    "  for _ in range(max_iter):\n",
    "    diff = learn_rate*gradient(x)\n",
    "    if np.abs(diff)<tol:\n",
    "      break    \n",
    "    x = x - diff\n",
    "    steps.append(x) # history tracing\n",
    "\n",
    "  return steps, x"
   ]
  },
  {
   "cell_type": "markdown",
   "id": "6b222b42",
   "metadata": {},
   "source": [
    "### A quadratic function"
   ]
  },
  {
   "cell_type": "code",
   "execution_count": 2,
   "id": "75e577f7",
   "metadata": {},
   "outputs": [],
   "source": [
    "def func1(x):\n",
    "  return x**2-4*x+1\n",
    "\n",
    "def gradient_func1(x):\n",
    "  return 2*x - 4"
   ]
  },
  {
   "cell_type": "code",
   "execution_count": 3,
   "id": "b851b0c2",
   "metadata": {},
   "outputs": [],
   "source": [
    "history, result = gradient_descent(9, gradient_func1, 0.1, 100)"
   ]
  },
  {
   "cell_type": "code",
   "execution_count": 5,
   "id": "ebb6fa70",
   "metadata": {},
   "outputs": [
    {
     "data": {
      "text/plain": [
       "2.041320706725109"
      ]
     },
     "execution_count": 5,
     "metadata": {},
     "output_type": "execute_result"
    }
   ],
   "source": [
    "result"
   ]
  },
  {
   "cell_type": "code",
   "execution_count": 12,
   "id": "f7d997ce",
   "metadata": {},
   "outputs": [
    {
     "data": {
      "image/png": "[encoded data removed]",
      "text/plain": [
       "<Figure size 432x288 with 1 Axes>"
      ]
     },
     "metadata": {
      "needs_background": "light"
     },
     "output_type": "display_data"
    }
   ],
   "source": [
    "import matplotlib.pyplot as plt\n",
    "import numpy as np\n",
    "#x = history\n",
    "x=np.arange(-100,100,1)\n",
    "y = x**2-4*x+1\n",
    "plt.plot(x, y)\n",
    "plt.show()"
   ]
  },
  {
   "cell_type": "code",
   "execution_count": null,
   "id": "8706de15",
   "metadata": {},
   "outputs": [],
   "source": []
  }
 ],
 "metadata": {
  "kernelspec": {
   "display_name": "Python 3 (ipykernel)",
   "language": "python",
   "name": "python3"
  },
  "language_info": {
   "codemirror_mode": {
    "name": "ipython",
    "version": 3
   },
   "file_extension": ".py",
   "mimetype": "text/x-python",
   "name": "python",
   "nbconvert_exporter": "python",
   "pygments_lexer": "ipython3",
   "version": "3.9.12"
  }
 },
 "nbformat": 4,
 "nbformat_minor": 5
}
